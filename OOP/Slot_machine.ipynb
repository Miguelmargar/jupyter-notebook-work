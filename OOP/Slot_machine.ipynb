{
 "cells": [
  {
   "cell_type": "markdown",
   "metadata": {},
   "source": [
    "## SLOT MACHINE"
   ]
  },
  {
   "cell_type": "code",
   "execution_count": 1,
   "metadata": {},
   "outputs": [],
   "source": [
    "from random import choice\n",
    "import sys\n",
    "import emoji"
   ]
  },
  {
   "cell_type": "markdown",
   "metadata": {},
   "source": [
    "Purse class created with a minimum balance of 10, functions to credit and debit the balance and to function to show the balance:"
   ]
  },
  {
   "cell_type": "code",
   "execution_count": 2,
   "metadata": {
    "scrolled": true
   },
   "outputs": [],
   "source": [
    "class Purse():\n",
    "    \"\"\"\n",
    "    Purse class that holds credit amounts for user and debits and credits accordingly if win or loose\n",
    "    \"\"\"    \n",
    "    \n",
    "    def __init__(self):\n",
    "        self.money = 10\n",
    "        \n",
    "#     remove bet amount from purse\n",
    "    def debit(self, amt):\n",
    "        self.amt = amt\n",
    "        self.money -= amt\n",
    "        \n",
    "#    add bet amount to purse\n",
    "    def add(self, amt):\n",
    "        self.amt = amt\n",
    "        self.money += amt\n",
    "        \n",
    "#   show balance\n",
    "    def balance(self):\n",
    "        return self.money\n",
    "                \n",
    "purse = Purse()\n"
   ]
  },
  {
   "cell_type": "markdown",
   "metadata": {},
   "source": [
    "Testing the purse class:"
   ]
  },
  {
   "cell_type": "code",
   "execution_count": 3,
   "metadata": {},
   "outputs": [],
   "source": [
    "# x = Purse('name')\n",
    "# x.money\n",
    "# x.add(5)\n",
    "# x.balance()\n",
    "# miguel = Purse(\"miguel\")"
   ]
  },
  {
   "cell_type": "markdown",
   "metadata": {},
   "source": [
    "creates column class taking the emoji carachters and functionality to change them randomly:"
   ]
  },
  {
   "cell_type": "code",
   "execution_count": 4,
   "metadata": {},
   "outputs": [],
   "source": [
    "class Column():\n",
    "    \"\"\"\n",
    "    Column class created to randomize options results\n",
    "    \"\"\"\n",
    "    def __init__(self):\n",
    "        self.faces = [emoji.emojize(':red_apple:'),\n",
    "                     emoji.emojize(':pear:'),\n",
    "                     emoji.emojize(':tangerine:')]\n",
    "        self.face = None\n",
    "        \n",
    "#         randomise result\n",
    "    def change_face(self):\n",
    "        self.face = choice(self.faces)\n",
    "        return self.face\n",
    "        \n",
    "        "
   ]
  },
  {
   "cell_type": "markdown",
   "metadata": {},
   "source": [
    "test column class:"
   ]
  },
  {
   "cell_type": "code",
   "execution_count": 5,
   "metadata": {},
   "outputs": [],
   "source": [
    "# z = Column()\n",
    "# z.change_face()"
   ]
  },
  {
   "cell_type": "markdown",
   "metadata": {},
   "source": [
    "Slot class created with functionality setting 3 faces with a given emiji, a show function showing the faces, function asking the user for a bet amount with conditions checked and function handling of the bet given by the user:"
   ]
  },
  {
   "cell_type": "code",
   "execution_count": 6,
   "metadata": {},
   "outputs": [],
   "source": [
    "class Slot(Column):\n",
    "    \"\"\"\n",
    "    Slot class created with functionality showing 3 results, handling purse, user input and output\n",
    "    \"\"\"\n",
    "\n",
    "    def __init__(self):\n",
    "        self.more = 1 \n",
    "       \n",
    "        self.faces = [emoji.emojize(':red_apple:'),\n",
    "                     emoji.emojize(':pear:'),\n",
    "                     emoji.emojize(':tangerine:')]\n",
    "        \n",
    "#         create 3 separate faces\n",
    "    def pull_handle(self):\n",
    "        self.a = Column.change_face(self)\n",
    "        self.b = Column.change_face(self)\n",
    "        self.c = Column.change_face(self)\n",
    "        \n",
    "#         show the faces\n",
    "    def show_slot(self):\n",
    "        print(self.a + self.b + self.c)\n",
    "        \n",
    "#         function for stopping game with n\n",
    "    def cont(self):\n",
    "        return self.more\n",
    "        \n",
    "#         obtain and partially handle user input\n",
    "    def take_bet(self):\n",
    "        self.bet = input(\"How much do you bet: \")\n",
    "        \n",
    "        if (self.bet == \"n\") or (self.bet == \"N\"):\n",
    "            self.more = False\n",
    "            print (\"You have now exited the game\")\n",
    "        else:\n",
    "            try:\n",
    "                self.bet = int(self.bet)\n",
    "            except ValueError:\n",
    "                self.take_bet()\n",
    "            if self.bet > purse.balance() or self.bet < 2:    \n",
    "                self.take_bet()\n",
    "            else:\n",
    "                return self.bet\n",
    "    \n",
    "#     handel user input within purse\n",
    "    def score_slot(self):\n",
    "        bet = self.bet\n",
    "        if (self.a == self.b) and (self.b == self.c) and (self.a == self.c):\n",
    "            purse.add(bet)\n",
    "            print(\"Your score:\", (bet * 2), \"- You have:\", purse.balance())\n",
    "            print()\n",
    "        elif (self.a == self.b) or (self.a == self.c) or (self.b == self.c):\n",
    "            purse.add(bet / 2)\n",
    "            print(\"Your score:\", bet * 1.5, \"- You have:\", purse.balance())\n",
    "            print()\n",
    "        else:\n",
    "            purse.debit(bet)\n",
    "            print(\"Your score: 0 - You have:\", purse.balance())\n",
    "            print()"
   ]
  },
  {
   "cell_type": "markdown",
   "metadata": {},
   "source": [
    "test of slot() function:"
   ]
  },
  {
   "cell_type": "code",
   "execution_count": 7,
   "metadata": {},
   "outputs": [],
   "source": [
    "# y = Slot()\n",
    "# y.take_bet()\n",
    "# y.pull_handle()\n",
    "# y.show_slot()\n",
    "# y.score_slot()\n"
   ]
  },
  {
   "cell_type": "markdown",
   "metadata": {},
   "source": [
    "Function that runs the classes with slot machine functionality which checks that the bet is always 2 or more:"
   ]
  },
  {
   "cell_type": "code",
   "execution_count": 8,
   "metadata": {},
   "outputs": [],
   "source": [
    "def run_slot_machine():\n",
    "    \"\"\"\n",
    "    Runs classes with slot machine classes together\n",
    "    \"\"\"\n",
    "    print(\"==========  \\\"SLOT MACHINE\\\"  ==========\")\n",
    "    print(\"Minimum bet is 2. Type 'N' to exit.\")\n",
    "    print(\"You have\", purse.balance())\n",
    "    print()\n",
    "    \n",
    "    slot = Slot()\n",
    "    \n",
    "    slot.take_bet()\n",
    "#     while balance is 2 or more and user input not n continue playing\n",
    "    while (purse.balance() >= 2) and slot.cont():\n",
    "        slot.pull_handle()\n",
    "        slot.show_slot()\n",
    "        slot.score_slot()\n",
    "        slot.take_bet()\n",
    "    else:\n",
    "        print(\"Your score is 0 thank you for playing\")\n",
    "        print(\"You are leaving with\", purse.balance())\n"
   ]
  },
  {
   "cell_type": "markdown",
   "metadata": {},
   "source": [
    "calling run_slot_machine():"
   ]
  },
  {
   "cell_type": "code",
   "execution_count": null,
   "metadata": {},
   "outputs": [
    {
     "name": "stdout",
     "output_type": "stream",
     "text": [
      "==========  \"SLOT MACHINE\"  ==========\n",
      "Minimum bet is 2. Type 'N' to exit.\n",
      "You have 10\n",
      "\n",
      "How much do you bet: 5\n",
      "🍎🍐🍐\n",
      "Your score: 7.5 - You have: 12.5\n",
      "\n"
     ]
    }
   ],
   "source": [
    "run_slot_machine()"
   ]
  },
  {
   "cell_type": "code",
   "execution_count": null,
   "metadata": {},
   "outputs": [],
   "source": []
  },
  {
   "cell_type": "code",
   "execution_count": null,
   "metadata": {},
   "outputs": [],
   "source": []
  },
  {
   "cell_type": "code",
   "execution_count": null,
   "metadata": {},
   "outputs": [],
   "source": []
  },
  {
   "cell_type": "code",
   "execution_count": null,
   "metadata": {},
   "outputs": [],
   "source": []
  }
 ],
 "metadata": {
  "kernelspec": {
   "display_name": "Python 3",
   "language": "python",
   "name": "python3"
  },
  "language_info": {
   "codemirror_mode": {
    "name": "ipython",
    "version": 3
   },
   "file_extension": ".py",
   "mimetype": "text/x-python",
   "name": "python",
   "nbconvert_exporter": "python",
   "pygments_lexer": "ipython3",
   "version": "3.7.0"
  }
 },
 "nbformat": 4,
 "nbformat_minor": 2
}
