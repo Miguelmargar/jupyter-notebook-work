{
 "cells": [
  {
   "cell_type": "code",
   "execution_count": 27,
   "metadata": {},
   "outputs": [],
   "source": [
    "e = {1, 2, 3, 4, 8, 12, 11, 10, 9, 5}\n",
    "m = {6, 7}\n",
    "s = {1, 2, 3, 4, 5, 6, 7}\n",
    "g = {8, 9, 10, 11, 12}\n",
    "\n",
    "union = e.union(s)\n",
    "inter = e.intersection(s)\n",
    "less = s.difference(e)"
   ]
  },
  {
   "cell_type": "code",
   "execution_count": 28,
   "metadata": {},
   "outputs": [
    {
     "name": "stdout",
     "output_type": "stream",
     "text": [
      "{1, 2, 3, 4, 5, 6, 7, 8, 9, 10, 11, 12}\n",
      "{1, 2, 3, 4, 5}\n",
      "{6, 7}\n",
      "12\n",
      "False\n",
      "False\n",
      "True\n",
      "{10, 6, 7}\n",
      "{10, 6}\n"
     ]
    }
   ],
   "source": [
    "print(union)\n",
    "print(inter)\n",
    "print(less)\n",
    "print(len(union))\n",
    "print(len(e) == 0)\n",
    "print(15 in e)\n",
    "print(10 in e)\n",
    "m.add(10)\n",
    "print(m)\n",
    "m.remove(7)\n",
    "print(m)"
   ]
  },
  {
   "cell_type": "code",
   "execution_count": null,
   "metadata": {},
   "outputs": [],
   "source": []
  }
 ],
 "metadata": {
  "kernelspec": {
   "display_name": "Python 3",
   "language": "python",
   "name": "python3"
  },
  "language_info": {
   "codemirror_mode": {
    "name": "ipython",
    "version": 3
   },
   "file_extension": ".py",
   "mimetype": "text/x-python",
   "name": "python",
   "nbconvert_exporter": "python",
   "pygments_lexer": "ipython3",
   "version": "3.7.0"
  }
 },
 "nbformat": 4,
 "nbformat_minor": 2
}
