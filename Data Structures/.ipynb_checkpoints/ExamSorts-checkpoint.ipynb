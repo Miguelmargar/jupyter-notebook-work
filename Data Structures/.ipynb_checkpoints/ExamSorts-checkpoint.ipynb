{
 "cells": [
  {
   "cell_type": "code",
   "execution_count": 4,
   "metadata": {},
   "outputs": [
    {
     "data": {
      "text/plain": [
       "[1, 2, 3, 4, 5, 6, 7, 8, 9]"
      ]
     },
     "execution_count": 4,
     "metadata": {},
     "output_type": "execute_result"
    }
   ],
   "source": [
    "a = [5, 7, 3, 2, 9, 1, 4, 6, 8]\n",
    "\n",
    "def bubble(a):\n",
    "    for i in range(len(a)-1):                        # for each item in list a - passes\n",
    "        change = False                               # flag to keep track if any change has been done\n",
    "        for j in range(len(a)-1):                    # for each item in first loop iterate through each item in list a\n",
    "            if a[j] > a[j + 1]:                      # compare left v right\n",
    "                a[j], a[j + 1] = a[j + 1], a[j]      # put bigger on right\n",
    "                change = True                        # if there has been at least one change in the sequence flag to true\n",
    "        if change == False:                          # if flag stays false in one pass stop as no more passes needed\n",
    "            break\n",
    "    return a\n",
    "        \n",
    "bubble(a)"
   ]
  },
  {
   "cell_type": "code",
   "execution_count": 3,
   "metadata": {},
   "outputs": [
    {
     "data": {
      "text/plain": [
       "[1, 2, 3, 4, 5, 6, 7, 8, 9]"
      ]
     },
     "execution_count": 3,
     "metadata": {},
     "output_type": "execute_result"
    }
   ],
   "source": [
    "a = [5, 7, 3, 2, 9, 1, 4, 6, 8]\n",
    "\n",
    "def selection(a):\n",
    "    size = len(a)\n",
    "    for i in range(size):                      # for each in list a\n",
    "        for j in range(i, size):               # for each item in the first loop iterate through each item in list a \n",
    "            if a[i] > a[j]:                    # if each item in second loop is bigger than the item in first in first loop\n",
    "                a[i], a[j] = a[j], a[i]        # change it\n",
    "        \n",
    "    return a\n",
    "        \n",
    "selection(a)"
   ]
  },
  {
   "cell_type": "code",
   "execution_count": 2,
   "metadata": {},
   "outputs": [
    {
     "data": {
      "text/plain": [
       "[1, 2, 3, 4, 5, 6, 7, 8, 9]"
      ]
     },
     "execution_count": 2,
     "metadata": {},
     "output_type": "execute_result"
    }
   ],
   "source": [
    "a = [5, 7, 3, 2, 9, 1, 4, 6, 8]\n",
    "\n",
    "def insertion(a):\n",
    "    for i in range(len(a)):                              # for eah in list a\n",
    "        j = i                                            # assign j the value of i to later do a sub count backwards\n",
    "        while j > 0:                                     # while j is bigger than 0\n",
    "            if a[j] < a[j - 1]:                          # compare the right handside object to the one on the left until at right place\n",
    "                a[j - 1], a[j] = a[j], a[j - 1]          # place smaller in the left\n",
    "            j -= 1                                       # bring down j to move left by one and then in turn check new right to new left\n",
    "    return a\n",
    "\n",
    "insertion(a)"
   ]
  },
  {
   "cell_type": "code",
   "execution_count": 31,
   "metadata": {},
   "outputs": [
    {
     "data": {
      "text/plain": [
       "[1, 2, 3, 4, 5, 6, 7, 8, 9]"
      ]
     },
     "execution_count": 31,
     "metadata": {},
     "output_type": "execute_result"
    }
   ],
   "source": [
    "a = [5, 7, 3, 2, 9, 1, 4, 6, 8]\n",
    "\n",
    "def quick(a):\n",
    "    \n",
    "    if len(a) < 2:                                       # base case if length of list is less than 0\n",
    "        return a\n",
    "\n",
    "    s = []                                               # set up empty lists for smaller and bigger than pivot and pivot\n",
    "    p = []\n",
    "    b = []\n",
    "    \n",
    "    p.append(a[0])                                       # add pivot to pivot list\n",
    "    a.pop(0)                                             # remove item from initial list\n",
    "    \n",
    "    while len(a) > 0:                                    # check each item in original list, add to respective list and \n",
    "        if a[0] < p[0]:                                  # remove from original list\n",
    "            s.append(a[0])\n",
    "            a.pop(0)\n",
    "        elif a[0] == p[0]:\n",
    "            p.append(a[0])\n",
    "            a.pop(0)\n",
    "        elif a[0] > p[0]:\n",
    "            b.append(a[0])\n",
    "            a.pop(0)\n",
    "    \n",
    "    \n",
    "    final = quick(s) + quick(p) + quick(b)               # arrange 3 lists in order but do recursive quick() first\n",
    "    return final\n",
    "            \n",
    "            \n",
    "quick(a)"
   ]
  },
  {
   "cell_type": "code",
   "execution_count": 8,
   "metadata": {},
   "outputs": [
    {
     "data": {
      "text/plain": [
       "[1, 2, 3, 4, 5, 6, 7, 8, 9]"
      ]
     },
     "execution_count": 8,
     "metadata": {},
     "output_type": "execute_result"
    }
   ],
   "source": [
    "a = [5, 7, 3, 2, 9, 1, 4, 6, 8]\n",
    "\n",
    "def merge(a):\n",
    "#     base case\n",
    "    if len(a) < 2:                                      \n",
    "        return a\n",
    "\n",
    "    result = []     \n",
    "    \n",
    "#     split list into two\n",
    "    mid = int(len(a) / 2)          \n",
    "\n",
    "#     recursion for y and z\n",
    "    y = merge(a[:mid])             \n",
    "    z = merge(a[mid:])          \n",
    "    \n",
    "    # compare and place smallest in result list and remove from half list\n",
    "    while (len(y) > 0) and (len(z) > 0):         \n",
    "        if y[0] > z[0]:                          \n",
    "            result.append(z[0])                 \n",
    "            z.pop(0)                            \n",
    "        else:\n",
    "            result.append(y[0])                 \n",
    "            y.pop(0)                             \n",
    "            \n",
    "#   if any item left on it's own append to result list\n",
    "    result += y                              \n",
    "    result += z                              \n",
    "    \n",
    "    return result                            \n",
    "\n",
    "merge(a)"
   ]
  }
 ],
 "metadata": {
  "kernelspec": {
   "display_name": "Python 3",
   "language": "python",
   "name": "python3"
  },
  "language_info": {
   "codemirror_mode": {
    "name": "ipython",
    "version": 3
   },
   "file_extension": ".py",
   "mimetype": "text/x-python",
   "name": "python",
   "nbconvert_exporter": "python",
   "pygments_lexer": "ipython3",
   "version": "3.7.0"
  },
  "toc": {
   "base_numbering": 1,
   "nav_menu": {},
   "number_sections": true,
   "sideBar": true,
   "skip_h1_title": false,
   "title_cell": "Table of Contents",
   "title_sidebar": "Contents",
   "toc_cell": false,
   "toc_position": {},
   "toc_section_display": true,
   "toc_window_display": false
  }
 },
 "nbformat": 4,
 "nbformat_minor": 2
}
