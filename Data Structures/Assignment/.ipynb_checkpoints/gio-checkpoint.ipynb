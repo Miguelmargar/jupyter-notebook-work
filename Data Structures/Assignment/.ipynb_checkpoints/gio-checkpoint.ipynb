{
 "cells": [
  {
   "cell_type": "markdown",
   "metadata": {},
   "source": [
    "# Individual notebook: Miguel Martinez (00021466)"
   ]
  },
  {
   "cell_type": "markdown",
   "metadata": {},
   "source": [
    "## Introduction\n",
    "**Correctness, Speed, Efficiency, Security, Robustness, Clarity, Maintainability**<br>\n",
    "In this individual notebook, we focus on the sorting algorithm.\n",
    "Sorting plays a central role in the main group notebook, as the whole purpose of the task is to optimise a plane route between a number of different aiports."
   ]
  },
  {
   "cell_type": "markdown",
   "metadata": {},
   "source": [
    "## Design\n",
    "Scalability and robustness: is your design flexible and robust to changes in the volume or content of input data?\n",
    "\n",
    "- **input**: unsorted list of floating point numbers representing fuel costs for each possible (permutated) route leg\n",
    "- **output**: sorted list, ascending order (the first element will be the cheapest, thus our objective)\n",
    "\n",
    "We believe a **merge sort** algorithm is the most suitable choice for our application, since its time complexity is (worst case scenario) is __O(n*logn)__.<br>\n",
    "\n",
    "We made this choice considering the scalability of our project, as other sorting algorithms would prove to be slower and less efficient.\n",
    "For the sake of comparison, we test the performance of **merge sort** with a different sorting algorithm, i.e. **selection sort**."
   ]
  },
  {
   "cell_type": "markdown",
   "metadata": {},
   "source": [
    "## Code"
   ]
  },
  {
   "cell_type": "markdown",
   "metadata": {},
   "source": [
    "### Code"
   ]
  },
  {
   "cell_type": "code",
   "execution_count": null,
   "metadata": {},
   "outputs": [],
   "source": [
    "input_to_sort_algo=[881, 813, 38, 593, 64, 919, 571, 999, 17, 797, 31, 524, 460, 174, 795, 472, 762, 467, 944, 245, 746, 663, 180, 596, 171, 453, 98, 10, 565, 546, 95, 577, 551, 260, 35, 391, 982, 933, 313, 429, 554, 199, 669, 553, 101, 769, 60, 664, 7, 552, 788, 144, 784, 152, 105, 483, 11, 726, 899, 403, 925, 169, 36, 224, 681, 714, 521, 938, 608, 353, 793, 765, 337, 96, 637, 9, 690, 942, 203, 458, 37, 818, 126, 815, 397, 29, 19, 193, 365, 168, 496, 280, 106, 993, 25, 847, 749, 202, 172, 148, 207, 866, 821, 767, 342, 84, 851, 528, 609, 370, 74, 835, 204, 943, 320, 677, 657, 578, 293, 870, 352, 238, 241, 700, 783, 636, 811, 748, 692, 53, 901, 100, 683, 928, 226, 939, 135, 838, 725, 687, 267, 150, 682, 157, 28, 997, 386, 284, 984, 359, 897, 427, 246, 488, 557, 747, 333, 929, 628, 479, 558, 465, 720, 430, 913, 447, 216, 441, 564, 836, 51, 820, 547, 269, 123, 697, 62, 196, 163, 964, 362, 188, 508, 116, 231, 305, 903, 250, 208, 165, 282, 389, 58, 740, 468, 327, 240, 892, 149, 599, 911, 107, 741, 321, 99, 831, 449, 592, 633, 378, 585, 281, 431, 5, 257, 971, 392, 318, 701, 713, 750, 200, 255, 393, 905, 225, 222, 996, 665, 290, 161, 248, 759, 519, 691, 18, 328, 312, 63, 865, 536, 292, 584, 481, 595, 718, 20, 802, 830, 587, 73, 952, 846, 613, 655, 211, 8, 176, 869, 375, 906, 110, 598, 849, 756, 808, 603, 771, 487, 723, 515, 1, 114, 535, 981, 192, 314, 978, 877, 440, 495, 643, 953, 518, 796, 34, 876, 878, 829, 302, 781, 83, 920, 368, 356, 232, 529, 799, 894, 589, 109, 54, 652, 443, 675, 611, 470, 0, 415, 791, 462, 319, 842, 556, 442, 638, 772, 715, 77, 773, 956, 499, 432, 262, 402, 421, 955, 924, 236, 50, 882, 991, 39, 605, 522, 630, 957, 239, 694, 610, 685, 132, 872, 374, 94, 812, 855, 912, 532, 757, 22, 492, 461, 975, 65, 868, 684, 287, 661, 146, 243, 413, 703, 478, 888, 947, 303, 503, 275, 326, 143, 530, 179, 309, 853, 426, 316, 998, 185, 923, 555, 270, 220, 450, 566, 183, 695, 476, 422, 816, 787, 197, 452, 477, 493, 131, 420, 433, 42, 128, 961, 622, 97, 134, 927, 272, 71, 175, 444, 582, 72, 885, 501, 82, 517, 404, 265, 271, 861, 977, 363, 259, 315, 601, 625, 612, 671, 308, 181, 989, 568, 129, 170, 296, 86, 92, 70, 833, 52, 580, 641, 512, 377, 253, 295, 466, 147, 647, 237, 895, 379, 607, 406, 602, 965, 300, 145, 693, 834, 806, 768, 85, 48, 949, 917, 26, 242, 651, 883, 686, 696, 548, 672, 931, 711, 80, 388, 346, 151, 394, 274, 177, 631, 958, 438, 411, 506, 656, 832, 616, 640, 502, 887, 407, 209, 735, 166, 341, 251, 674]"
   ]
  },
  {
   "cell_type": "code",
   "execution_count": 10,
   "metadata": {},
   "outputs": [],
   "source": [
    "def msort2(x):\n",
    "#     base case\n",
    "    if len(x) < 2:\n",
    "        return x\n",
    "\n",
    "    result = []          # moved!\n",
    "    \n",
    "#     split list into two\n",
    "    mid = int(len(x) / 2)\n",
    "\n",
    "#     recursion for y and z\n",
    "    y = msort2(x[:mid])\n",
    "    z = msort2(x[mid:])\n",
    "    \n",
    "    # compare and place smallest in result list and remove from half list\n",
    "    while (len(y) > 0) and (len(z) > 0):\n",
    "        if y[0] > z[0]:\n",
    "            result.append(z[0])\n",
    "            z.pop(0)\n",
    "        else:\n",
    "            result.append(y[0])\n",
    "            y.pop(0)\n",
    "            \n",
    "#   if any item left on it's own append to result list\n",
    "    result += y\n",
    "    result += z\n",
    "    \n",
    "    return result        \n"
   ]
  },
  {
   "cell_type": "code",
   "execution_count": null,
   "metadata": {},
   "outputs": [],
   "source": [
    "%%timeit -n1\n",
    "\n",
    "msort2(input_to_sort_algo)"
   ]
  },
  {
   "cell_type": "markdown",
   "metadata": {},
   "source": [
    "### Code"
   ]
  },
  {
   "cell_type": "code",
   "execution_count": 11,
   "metadata": {},
   "outputs": [],
   "source": [
    "def selection_sort(input_to_sort_algo):\n",
    "    \n",
    "    # start with the 1st element\n",
    "    for i in range(len(input_to_sort_algo)): \n",
    "        \n",
    "        # unsorted array \n",
    "        min_idx = i \n",
    "        \n",
    "        # Find the minimum element in remaining\n",
    "        for j in range(i+1, len(input_to_sort_algo)):\n",
    "            if input_to_sort_algo[min_idx] > input_to_sort_algo[j]:\n",
    "                min_idx = j \n",
    "                \n",
    "        # Swap the found minimum element with the first element \n",
    "        input_to_sort_algo[i], input_to_sort_algo[min_idx] = input_to_sort_algo[min_idx], input_to_sort_algo[i]\n",
    "\n",
    "    return input_to_sort_algo"
   ]
  },
  {
   "cell_type": "code",
   "execution_count": null,
   "metadata": {},
   "outputs": [],
   "source": [
    "%%timeit -n1\n",
    "selection_sort(input_to_sort_algo)"
   ]
  },
  {
   "cell_type": "code",
   "execution_count": 1,
   "metadata": {},
   "outputs": [],
   "source": [
    "# Create list with random integers. Number of items is custom\n",
    "import random\n",
    "a = 100000\n",
    "my_randoms = [random.randrange(1, 100, 1) for _ in range(a)]"
   ]
  },
  {
   "cell_type": "code",
   "execution_count": 25,
   "metadata": {},
   "outputs": [
    {
     "name": "stdout",
     "output_type": "stream",
     "text": [
      "SELECTION SORT: done.\n",
      "CPU times: user 7min 4s, sys: 764 ms, total: 7min 5s\n",
      "Wall time: 7min 9s\n"
     ]
    }
   ],
   "source": [
    "%%time\n",
    "\n",
    "selection_sort(my_randoms)\n",
    "print(\"SELECTION SORT: done.\")"
   ]
  },
  {
   "cell_type": "code",
   "execution_count": 26,
   "metadata": {
    "scrolled": true
   },
   "outputs": [
    {
     "name": "stdout",
     "output_type": "stream",
     "text": [
      "MERGE SORT: done.\n",
      "CPU times: user 1.09 s, sys: 7.44 ms, total: 1.1 s\n",
      "Wall time: 1.1 s\n"
     ]
    }
   ],
   "source": [
    "%%time\n",
    "\n",
    "msort2(my_randoms)\n",
    "print(\"MERGE SORT: done.\")"
   ]
  },
  {
   "cell_type": "code",
   "execution_count": 30,
   "metadata": {},
   "outputs": [
    {
     "name": "stdout",
     "output_type": "stream",
     "text": [
      "Chart for SELECTION sort\n"
     ]
    },
    {
     "data": {
      "image/png": "[encoded data removed]",
      "text/plain": [
       "<Figure size 432x288 with 1 Axes>"
      ]
     },
     "metadata": {
      "needs_background": "light"
     },
     "output_type": "display_data"
    }
   ],
   "source": [
    "import matplotlib\n",
    "import matplotlib.pyplot as plt\n",
    "\n",
    "print(\"Chart for SELECTION sort\")\n",
    "\n",
    "n=[10,100,1000,10000,100000]\n",
    "t=[238e-6,679e-6,48.7e-3,4.14,425]\n",
    "\n",
    "%matplotlib inline  \n",
    "plt.plot(n,t)\n",
    "plt.show()"
   ]
  },
  {
   "cell_type": "code",
   "execution_count": 31,
   "metadata": {
    "scrolled": true
   },
   "outputs": [
    {
     "name": "stdout",
     "output_type": "stream",
     "text": [
      "Chart for MERGE sort\n"
     ]
    },
    {
     "data": {
      "image/png": "[encoded data removed]",
      "text/plain": [
       "<Figure size 432x288 with 1 Axes>"
      ]
     },
     "metadata": {
      "needs_background": "light"
     },
     "output_type": "display_data"
    }
   ],
   "source": [
    "import matplotlib\n",
    "import matplotlib.pyplot as plt\n",
    "\n",
    "print(\"Chart for MERGE sort\")\n",
    "\n",
    "n=[10,100,1000,10000,100000]\n",
    "t=[367e-6,491e-6,3.81e-3,47.9e-3,1.1]\n",
    "\n",
    "%matplotlib inline  \n",
    "import matplotlib.pyplot as plt\n",
    "plt.plot(n,t)\n",
    "plt.show()"
   ]
  },
  {
   "cell_type": "markdown",
   "metadata": {},
   "source": [
    "## Unit test"
   ]
  },
  {
   "cell_type": "code",
   "execution_count": null,
   "metadata": {},
   "outputs": [],
   "source": [
    "import unittest"
   ]
  },
  {
   "cell_type": "markdown",
   "metadata": {},
   "source": [
    "### Unit test"
   ]
  },
  {
   "cell_type": "code",
   "execution_count": null,
   "metadata": {},
   "outputs": [],
   "source": []
  },
  {
   "cell_type": "markdown",
   "metadata": {},
   "source": [
    "### Unit test"
   ]
  },
  {
   "cell_type": "code",
   "execution_count": null,
   "metadata": {},
   "outputs": [],
   "source": []
  },
  {
   "cell_type": "markdown",
   "metadata": {},
   "source": [
    "## Summary\n",
    "critical reflection on what you learned as a result of undertaking this project"
   ]
  },
  {
   "cell_type": "markdown",
   "metadata": {},
   "source": [
    "By checking the time complexity we can appreciate that the merge sort is considerable quicker compared to a selection sort algorithm. At the time of writing this merge sort outputs in **4.06ms** while selection sort outputs **30.6ms**. The library used to time the algoritms takes 7 runs with one loop each and displays the best case scenario out of the 7 cases with a mean standard deviation. \n",
    "It is valuable to point out that merge sort Big-O is **O(nlogn)** as the list is iteratively split into two meaning it **becomes smaller in size** and thus quicker to check while selection sort is **O(n^2)** as there is a **nested loop** involved in the sorting of the list.  \n",
    "The speed of the sorting is the main reason why it was decided to apply the merge sort algorithm."
   ]
  },
  {
   "cell_type": "code",
   "execution_count": null,
   "metadata": {},
   "outputs": [],
   "source": []
  }
 ],
 "metadata": {
  "kernelspec": {
   "display_name": "Python 3",
   "language": "python",
   "name": "python3"
  },
  "language_info": {
   "codemirror_mode": {
    "name": "ipython",
    "version": 3
   },
   "file_extension": ".py",
   "mimetype": "text/x-python",
   "name": "python",
   "nbconvert_exporter": "python",
   "pygments_lexer": "ipython3",
   "version": "3.7.0"
  },
  "toc": {
   "base_numbering": 1,
   "nav_menu": {},
   "number_sections": true,
   "sideBar": true,
   "skip_h1_title": true,
   "title_cell": "Table of Contents",
   "title_sidebar": "Contents",
   "toc_cell": false,
   "toc_position": {
    "height": "calc(100% - 180px)",
    "left": "10px",
    "top": "150px",
    "width": "217.813px"
   },
   "toc_section_display": true,
   "toc_window_display": true
  }
 },
 "nbformat": 4,
 "nbformat_minor": 2
}
