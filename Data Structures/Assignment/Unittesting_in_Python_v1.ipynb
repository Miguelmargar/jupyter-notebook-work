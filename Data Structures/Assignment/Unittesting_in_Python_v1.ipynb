{
 "cells": [
  {
   "cell_type": "code",
   "execution_count": 15,
   "metadata": {},
   "outputs": [
    {
     "name": "stderr",
     "output_type": "stream",
     "text": [
      "test_add (__main__.TestNotebook) ... FAIL\n",
      "test_isupper (__main__.TestStringMethods) ... ok\n",
      "test_split (__main__.TestStringMethods) ... ok\n",
      "test_strings_a (__main__.TestStringMethods) ... ok\n",
      "test_strip (__main__.TestStringMethods) ... ok\n",
      "test_upper (__main__.TestStringMethods) ... ok\n",
      "\n",
      "======================================================================\n",
      "FAIL: test_add (__main__.TestNotebook)\n",
      "----------------------------------------------------------------------\n",
      "Traceback (most recent call last):\n",
      "  File \"<ipython-input-11-e806a7571e83>\", line 6, in test_add\n",
      "    self.assertEqual((2+2), 5)\n",
      "AssertionError: 4 != 5\n",
      "\n",
      "----------------------------------------------------------------------\n",
      "Ran 6 tests in 0.013s\n",
      "\n",
      "FAILED (failures=1)\n"
     ]
    }
   ],
   "source": [
    "import unittest \n",
    "  \n",
    "class TestStringMethods(unittest.TestCase): \n",
    "      \n",
    "    def setUp(self): \n",
    "        pass\n",
    "  \n",
    "    # Returns True if the string contains 4 a. \n",
    "    def test_strings_a(self): \n",
    "        self.assertEqual( 'a'*4, 'aaaa') \n",
    "  \n",
    "    # Returns True if the string is in upper case. \n",
    "    def test_upper(self):         \n",
    "        self.assertEqual('foo'.upper(), 'FOO') \n",
    "  \n",
    "    # Returns TRUE if the string is in uppercase \n",
    "    # else returns False. \n",
    "    def test_isupper(self):         \n",
    "        self.assertTrue('FOO'.isupper()) \n",
    "        self.assertFalse('Foo'.isupper()) \n",
    "  \n",
    "   \n",
    "  \n",
    "    # Returns true if the string splits and matches \n",
    "    # the given output. \n",
    "    def test_split(self):         \n",
    "        s = 'hello world'\n",
    "        self.assertEqual(s.split(), ['hello', 'world']) \n",
    "        with self.assertRaises(TypeError): \n",
    "            s.split(2) \n",
    "  \n",
    "    unittest.main(argv=[''], verbosity=2, exit=False)"
   ]
  },
  {
   "cell_type": "code",
   "execution_count": 8,
   "metadata": {},
   "outputs": [],
   "source": []
  },
  {
   "cell_type": "code",
   "execution_count": 11,
   "metadata": {},
   "outputs": [
    {
     "name": "stderr",
     "output_type": "stream",
     "text": [
      "test_add (__main__.TestNotebook) ... FAIL\n",
      "test_isupper (__main__.TestStringMethods) ... ok\n",
      "test_split (__main__.TestStringMethods) ... ok\n",
      "test_strings_a (__main__.TestStringMethods) ... ok\n",
      "test_strip (__main__.TestStringMethods) ... ok\n",
      "test_upper (__main__.TestStringMethods) ... ok\n",
      "\n",
      "======================================================================\n",
      "FAIL: test_add (__main__.TestNotebook)\n",
      "----------------------------------------------------------------------\n",
      "Traceback (most recent call last):\n",
      "  File \"<ipython-input-11-e806a7571e83>\", line 6, in test_add\n",
      "    self.assertEqual((2+2), 5)\n",
      "AssertionError: 4 != 5\n",
      "\n",
      "----------------------------------------------------------------------\n",
      "Ran 6 tests in 0.012s\n",
      "\n",
      "FAILED (failures=1)\n"
     ]
    },
    {
     "data": {
      "text/plain": [
       "<unittest.main.TestProgram at 0x169a21fbd30>"
      ]
     },
     "execution_count": 11,
     "metadata": {},
     "output_type": "execute_result"
    }
   ],
   "source": [
    "import unittest\n",
    "\n",
    "class TestNotebook(unittest.TestCase):\n",
    "\n",
    "    def test_add(self):\n",
    "        self.assertEqual((2+2), 5)\n",
    "\n",
    "\n",
    "unittest.main(argv=[''], verbosity=2, exit=False)"
   ]
  },
  {
   "cell_type": "code",
   "execution_count": null,
   "metadata": {},
   "outputs": [],
   "source": []
  }
 ],
 "metadata": {
  "kernelspec": {
   "display_name": "Python 3",
   "language": "python",
   "name": "python3"
  },
  "language_info": {
   "codemirror_mode": {
    "name": "ipython",
    "version": 3
   },
   "file_extension": ".py",
   "mimetype": "text/x-python",
   "name": "python",
   "nbconvert_exporter": "python",
   "pygments_lexer": "ipython3",
   "version": "3.7.2"
  }
 },
 "nbformat": 4,
 "nbformat_minor": 2
}
