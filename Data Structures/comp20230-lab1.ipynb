{
 "cells": [
  {
   "cell_type": "markdown",
   "metadata": {},
   "source": [
    "# COMP20230 Lab 1: Complexity Analysis\n",
    "\n",
    "In order to express the complexity of an algorithm, we can count the number of machine instructions or basic operations that will execute as a function of the input parameters. Counting the operations can give us the running time $T(n)$. This can be simplfied to give us the complexity, $\\mathcal{O}$ or big-Oh, by removing constants from the equation that would have a small impact on the overall complexity for very large values of $n$.\n",
    "\n"
   ]
  },
  {
   "cell_type": "markdown",
   "metadata": {},
   "source": [
    "## 1. Complexity in Python\n",
    "\n",
    "The complexity of an algorithm depends on the number of basic operations it contains. In this first exercise you will evaluate the complexity of simple Python functions - instead of algorithms. The idea is the same as algorithm analysis: identify the operations, count them. Take particular care of the loops.\n",
    "Here is an example:"
   ]
  },
  {
   "cell_type": "code",
   "execution_count": null,
   "metadata": {},
   "outputs": [],
   "source": [
    "def function_a (n) :\n",
    "    print(\"hello\")\n",
    "    for i in range(n):\n",
    "        print(\"n = \", n, \"; i=\", i) \n",
    "    print (\" bye \")"
   ]
  },
  {
   "cell_type": "code",
   "execution_count": 2,
   "metadata": {},
   "outputs": [
    {
     "name": "stdout",
     "output_type": "stream",
     "text": [
      "hello\n",
      "n =  5 ; i= 0\n",
      "n =  5 ; i= 1\n",
      "n =  5 ; i= 2\n",
      "n =  5 ; i= 3\n",
      "n =  5 ; i= 4\n",
      " bye \n"
     ]
    }
   ],
   "source": [
    "function_a(5)"
   ]
  },
  {
   "cell_type": "markdown",
   "metadata": {},
   "source": [
    "The program enters n times in the loop \\-  checking the loop condition takes 1 operation (incrementing *i*). The program does only 1 operation every time it enters the loop \\- we have 1 * n operations here. Outside the loop there are 2 simple instructions (one before and one after) which do only 1 operation each."
   ]
  },
  {
   "cell_type": "code",
   "execution_count": 3,
   "metadata": {},
   "outputs": [],
   "source": [
    "def function_a(n):\n",
    "    print(\"hello\")          #1 operation\n",
    "    for i in range(n):      #2 operation (assignment) per loop, N loops\n",
    "        print(\"n = \", n)    #1 operation per loop, N operations\n",
    "    print(\"bye\")            #1 operation "
   ]
  },
  {
   "cell_type": "markdown",
   "metadata": {},
   "source": [
    "The running time of this algorithm is computed as follows: every operation with a \"per loop\" gives a factor of n: here 2 operations, so *3n*; every operation without a \"per loop\" gives you a value without an _n_: here 2. So in total, T(n)=3n + 2 meaning it is $\\mathcal{O}$(n).\n",
    "\n",
    "In the cell below we have a _magic_ command. These are notebook and not python commands. %%time will request that the OS times the execution of the cell for us and returns it in the cells output."
   ]
  },
  {
   "cell_type": "code",
   "execution_count": 6,
   "metadata": {},
   "outputs": [
    {
     "name": "stdout",
     "output_type": "stream",
     "text": [
      "starting for 6000 loops\n",
      "max n= 6000\n",
      "Wall time: 724 ms\n"
     ]
    }
   ],
   "source": [
    "%%time\n",
    "\n",
    "def function_b(n):\n",
    "    print(\"starting for\",n, \"loops\")          #1 operation\n",
    "    for i in range(n):                        #2 operation (assignment) per loop, N loops\n",
    "        for j in range(n):                        #2 operation (assignment) per loop, N loops\n",
    "            max=n                             #1 operation per loop, N operations\n",
    "    print(\"max n=\",n)                         #1 operation \n",
    "\n",
    "a=6000\n",
    "function_b(a)"
   ]
  },
  {
   "cell_type": "markdown",
   "metadata": {},
   "source": [
    "We can run the cell repeatedly, changing the value for a. I have done 7 example tests below and recoded the times. I then used the matplotlib (which intalls by default as part of anaconda) to plot $n$ against $t$."
   ]
  },
  {
   "cell_type": "code",
   "execution_count": 7,
   "metadata": {},
   "outputs": [
    {
     "data": {
      "image/png": "[encoded data removed]",
      "text/plain": [
       "<Figure size 432x288 with 1 Axes>"
      ]
     },
     "metadata": {
      "needs_background": "light"
     },
     "output_type": "display_data"
    }
   ],
   "source": [
    "n=[10,100,1000,3000,5000,8000, 10000]\n",
    "\n",
    "t=[444e-6,619e-6,37.3e-3,340e-3,907e-3,2.45,3.72]\n",
    "\n",
    "import matplotlib.pyplot as plt\n",
    "plt.plot(n,t)\n",
    "plt.show()"
   ]
  },
  {
   "cell_type": "markdown",
   "metadata": {},
   "source": [
    "Now do the same for the following 5 programs, labelling the operations and running for various values of $n$ and $m$ to validate the big-$\\mathcal{O}$ experimentally. Watch out for the loop definitions."
   ]
  },
  {
   "cell_type": "code",
   "execution_count": 21,
   "metadata": {},
   "outputs": [
    {
     "data": {
      "image/png": "[encoded data removed]",
      "text/plain": [
       "<Figure size 432x288 with 1 Axes>"
      ]
     },
     "metadata": {
      "needs_background": "light"
     },
     "output_type": "display_data"
    }
   ],
   "source": [
    "import matplotlib.pyplot as plt\n",
    "import time\n",
    "\n",
    "\n",
    "start = time.time()\n",
    "\n",
    "def function_1(n):               #1 op defining function\n",
    "    for i in range(11):          #2 ops assignment and go through range\n",
    "        return i*n               #1 op print \n",
    "     \n",
    "\n",
    "finish = time.time()\n",
    "\n",
    "total_time = (finish - start)\n",
    "\n",
    "\n",
    "def cool():\n",
    "\n",
    "    n=[10,100,1000,3000,5000,8000, 10000]\n",
    "    t=[]\n",
    "\n",
    "    for i in n:\n",
    "        function_1(i)\n",
    "        t.append(total_time)\n",
    "\n",
    "#     return t\n",
    "    plt.plot(n,t)\n",
    "    plt.show()\n",
    "\n",
    "\n",
    "cool()\n",
    "\n",
    "\n",
    "\n"
   ]
  },
  {
   "cell_type": "code",
   "execution_count": 9,
   "metadata": {},
   "outputs": [
    {
     "name": "stdout",
     "output_type": "stream",
     "text": [
      "Wall time: 7.98 ms\n"
     ]
    }
   ],
   "source": [
    "%%time\n",
    "\n",
    "def function_2(n):\n",
    "    s=1\n",
    "    for i in range(n):\n",
    "        s=s+i**2\n",
    "    return s\n",
    "\n",
    "function_2(10000)"
   ]
  },
  {
   "cell_type": "code",
   "execution_count": 10,
   "metadata": {},
   "outputs": [
    {
     "name": "stdout",
     "output_type": "stream",
     "text": [
      "Wall time: 78.8 ms\n"
     ]
    }
   ],
   "source": [
    "%%time\n",
    "\n",
    "def function_3(n):\n",
    "    s=1\n",
    "    for i in range(n):\n",
    "        for j in range(n):\n",
    "            s=s+i*j\n",
    "    return s\n",
    "\n",
    "function_3(1000)"
   ]
  },
  {
   "cell_type": "code",
   "execution_count": 11,
   "metadata": {},
   "outputs": [
    {
     "name": "stdout",
     "output_type": "stream",
     "text": [
      "20002\n",
      "Wall time: 997 µs\n"
     ]
    }
   ],
   "source": [
    "%%time\n",
    "\n",
    "def function_4(n,m):\n",
    "    i=1;j=1\n",
    "    opcount=2\n",
    "    while i<=n and j<=m:\n",
    "        i=i+1\n",
    "        j=j+1\n",
    "        opcount+=2\n",
    "    print(opcount)\n",
    "\n",
    "function_4(10000,10000)"
   ]
  },
  {
   "cell_type": "code",
   "execution_count": 15,
   "metadata": {},
   "outputs": [
    {
     "name": "stdout",
     "output_type": "stream",
     "text": [
      "Wall time: 0 ns\n"
     ]
    }
   ],
   "source": [
    "%%time\n",
    "\n",
    "def function_5(n,m):\n",
    "    i=1;j=1;s=1\n",
    "    while i<=n:\n",
    "        if j<=m:\n",
    "            s=s*j\n",
    "            j=j+1\n",
    "        else:\n",
    "            s=s+i\n",
    "            i=i+1\n",
    "    return s\n",
    "\n",
    "function_5(5,5)"
   ]
  },
  {
   "cell_type": "markdown",
   "metadata": {},
   "source": [
    "Run these programs with different values of the $n$ and $m$ parameters. Pick one and experiment on plotting the times. Does the graph match the big-$\\mathcal{O}$ you expected?"
   ]
  },
  {
   "cell_type": "markdown",
   "metadata": {},
   "source": [
    "## 2. Poison Puzzle\n",
    "\n",
    "An evil king has n bottles of wine, and a spy has just poisoned one of them. Unfortunately, they do not know which one it is. The poison is very deadly; just one drop diluted even a billion to one will still kill. Even so, it takes a full month for the poison to take effect. Design a scheme for determining exactly which one of the wine bottles was poisoned in just one month’s time while expending $\\mathcal{O}(log(n))$ taste testers. Can you write code to prove the scheme?"
   ]
  },
  {
   "cell_type": "code",
   "execution_count": null,
   "metadata": {},
   "outputs": [],
   "source": []
  }
 ],
 "metadata": {
  "kernelspec": {
   "display_name": "Python 3",
   "language": "python",
   "name": "python3"
  },
  "language_info": {
   "codemirror_mode": {
    "name": "ipython",
    "version": 3
   },
   "file_extension": ".py",
   "mimetype": "text/x-python",
   "name": "python",
   "nbconvert_exporter": "python",
   "pygments_lexer": "ipython3",
   "version": "3.7.0"
  }
 },
 "nbformat": 4,
 "nbformat_minor": 2
}
