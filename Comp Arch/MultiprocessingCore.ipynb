{
 "cells": [
  {
   "cell_type": "markdown",
   "metadata": {},
   "source": [
    "# Multiprocessing using Pools \n",
    "A simple framework for assessing the impact of multiprocessing on runtime on a multi-core machine. "
   ]
  },
  {
   "cell_type": "code",
   "execution_count": 3,
   "metadata": {},
   "outputs": [],
   "source": [
    "import time\n",
    "import math\n",
    "import multiprocessing\n",
    "from multiprocessing import Pool\n",
    "\n",
    "# A function for timing a job that uses a pool of processes.\n",
    "#  f is a function that takes a single argument\n",
    "#  data is an array of arguments on which f will be mapped\n",
    "#  pool_size is the number of processes in the pool. \n",
    "def pool_process(f, data, pool_size):\n",
    "    tp1 = time.time()\n",
    "    pool = Pool(processes=pool_size) # initialize the Pool.\n",
    "    result = pool.map(f, data)       # map f to the data using the Pool of processes to do the work \n",
    "    pool.close() # No more processes\n",
    "    pool.join()  # Wait for the pool processing to complete. \n",
    "    #print(\"Results\", result)\n",
    "    print(\"Overall Time:\", int(time.time()-tp1))\n",
    " "
   ]
  },
  {
   "cell_type": "code",
   "execution_count": null,
   "metadata": {},
   "outputs": [],
   "source": [
    "def my_func(x):\n",
    "    s = math.sqrt(x)\n",
    "    return s"
   ]
  },
  {
   "cell_type": "code",
   "execution_count": null,
   "metadata": {},
   "outputs": [],
   "source": [
    "# This verbose version shows which process in the pool is running each task. \n",
    "def my_func_verbose(x):\n",
    "    s = math.sqrt(x)\n",
    "    print(\"Task\", multiprocessing.current_process(), x, s)\n",
    "    return s"
   ]
  },
  {
   "cell_type": "code",
   "execution_count": null,
   "metadata": {},
   "outputs": [],
   "source": [
    "dataRange = range(10)"
   ]
  },
  {
   "cell_type": "markdown",
   "metadata": {},
   "source": [
    "Use the pool_process function to apply my_func to the data in dataRange.  \n",
    "This task is so light it requires very little processing time. "
   ]
  },
  {
   "cell_type": "code",
   "execution_count": null,
   "metadata": {},
   "outputs": [],
   "source": [
    "#pool_process(my_func, dataRange, 1)\n",
    "pool_process(my_func_verbose, dataRange, 2)"
   ]
  },
  {
   "cell_type": "markdown",
   "metadata": {},
   "source": [
    "## A naive function for checking primes "
   ]
  },
  {
   "cell_type": "code",
   "execution_count": 2,
   "metadata": {},
   "outputs": [],
   "source": [
    "def check_prime(num):\n",
    "    t1 = time.time()\n",
    "    res = False\n",
    "    if num > 0:\n",
    "        # check for factors\n",
    "        for i in range(2,num):\n",
    "            if (num % i) == 0:\n",
    "                print(num,\"is not a prime number\")\n",
    "                print(i,\"times\",num//i,\"is\",num)\n",
    "                print(\"Time:\", int(time.time()-t1))\n",
    "                break\n",
    "        else:\n",
    "            #print(num,\"is a prime number\")\n",
    "            #print(\"Time:\", time.time()-t1) \n",
    "            res = True\n",
    "            # if input number is less than\n",
    "            # or equal to 1, it is not prime\n",
    "    return res\n"
   ]
  },
  {
   "cell_type": "code",
   "execution_count": null,
   "metadata": {},
   "outputs": [],
   "source": [
    "check_prime(15488801, )"
   ]
  },
  {
   "cell_type": "code",
   "execution_count": null,
   "metadata": {},
   "outputs": [],
   "source": [
    "check_prime(15488803)"
   ]
  },
  {
   "cell_type": "markdown",
   "metadata": {},
   "source": [
    "## Multiprocessing Test 1 (check_prime function)"
   ]
  },
  {
   "cell_type": "markdown",
   "metadata": {},
   "source": [
    "After ‘connecting’ the **check_prime** function to the Pool processing function, we will test it with 3 different input sizes (called **test_data**) to quantify the speedup achieved with multiple cores. The idea is to, for each **test_data**, check the performance obatained by 1, 2, 3 and 4 cores.\n",
    "\n",
    "The different inputs will be:\n",
    "- 1 prime number\n",
    "- 30 prime numbers\n",
    "- 70 prime numbers\n",
    "\n",
    "The prime numbers were obtained from the website provided for the assignment."
   ]
  },
  {
   "cell_type": "code",
   "execution_count": 19,
   "metadata": {},
   "outputs": [],
   "source": [
    "# Setting different test_data variables\n",
    "\n",
    "# 1 prime number\n",
    "test_data1 = [60817387]\n",
    "\n",
    "# 30 prime numbers\n",
    "test_data2 = [5312207,302053,4580413,9406697,6975407,3130243,7880009,3330311,7041193,3097531,8566289,681997,8974241,1712311,9644909,8831479,9208561,2867077,7923737,2385553,9360979,2663497,5808083,8896171,3112919,1789783,2890127,4653511,7813661,3494669]\n",
    "\n",
    "# 70 prime numbers\n",
    "test_data3 = [8823413,1466771,1726379,8822159,2445769,1891429,1633171,9382757,7183783,1127183,234383,7032919,545599,6390653,8782919,4240069,9888803,268883,6961541,7662401,6874187,3587317,9087343,722489,2805071,884699,9549539,8492927,572707,2682359,2058197,2656663,9193193,1179281,283769,886339,8140529,1406089,4469753,2978047,3090679,6871679,5228351,9309341,1124239,1111853,1325227,5806987,9939647,6836369,3624289,1987483,779021,6896371,945899,3842431,9197509,1801549,3563407,7296871,1229209,5981851,2361379,4935607,1975609,1170437,1405721,7081603,2814179,1493071]"
   ]
  },
  {
   "cell_type": "markdown",
   "metadata": {},
   "source": [
    "### Checking performances for test_data1"
   ]
  },
  {
   "cell_type": "code",
   "execution_count": 6,
   "metadata": {},
   "outputs": [
    {
     "name": "stdout",
     "output_type": "stream",
     "text": [
      "Overall Time: 4\n"
     ]
    }
   ],
   "source": [
    "# 1 core\n",
    "pool_process(check_prime, test_data1, 1)"
   ]
  },
  {
   "cell_type": "code",
   "execution_count": 7,
   "metadata": {},
   "outputs": [
    {
     "name": "stdout",
     "output_type": "stream",
     "text": [
      "Overall Time: 4\n"
     ]
    }
   ],
   "source": [
    "# 2 cores\n",
    "pool_process(check_prime, test_data1, 2)"
   ]
  },
  {
   "cell_type": "code",
   "execution_count": 8,
   "metadata": {},
   "outputs": [
    {
     "name": "stdout",
     "output_type": "stream",
     "text": [
      "Overall Time: 4\n"
     ]
    }
   ],
   "source": [
    "# 3 cores\n",
    "pool_process(check_prime, test_data1, 3)"
   ]
  },
  {
   "cell_type": "code",
   "execution_count": 9,
   "metadata": {},
   "outputs": [
    {
     "name": "stdout",
     "output_type": "stream",
     "text": [
      "Overall Time: 4\n"
     ]
    }
   ],
   "source": [
    "# 4 cores\n",
    "pool_process(check_prime, test_data1, 4)"
   ]
  },
  {
   "cell_type": "markdown",
   "metadata": {},
   "source": [
    "### Checking performances for test_data2"
   ]
  },
  {
   "cell_type": "code",
   "execution_count": 20,
   "metadata": {
    "scrolled": true
   },
   "outputs": [
    {
     "name": "stdout",
     "output_type": "stream",
     "text": [
      "Overall Time: 11\n"
     ]
    }
   ],
   "source": [
    "# 1 core\n",
    "pool_process(check_prime, test_data2, 1)"
   ]
  },
  {
   "cell_type": "code",
   "execution_count": 21,
   "metadata": {
    "scrolled": true
   },
   "outputs": [
    {
     "name": "stdout",
     "output_type": "stream",
     "text": [
      "Overall Time: 6\n"
     ]
    }
   ],
   "source": [
    "# 2 cores\n",
    "pool_process(check_prime, test_data2, 2)"
   ]
  },
  {
   "cell_type": "code",
   "execution_count": 22,
   "metadata": {
    "scrolled": true
   },
   "outputs": [
    {
     "name": "stdout",
     "output_type": "stream",
     "text": [
      "Overall Time: 6\n"
     ]
    }
   ],
   "source": [
    "# 3 cores\n",
    "pool_process(check_prime, test_data2, 3)"
   ]
  },
  {
   "cell_type": "code",
   "execution_count": 23,
   "metadata": {
    "scrolled": true
   },
   "outputs": [
    {
     "name": "stdout",
     "output_type": "stream",
     "text": [
      "Overall Time: 7\n"
     ]
    }
   ],
   "source": [
    "# 4 cores\n",
    "pool_process(check_prime, test_data2, 4)"
   ]
  },
  {
   "cell_type": "markdown",
   "metadata": {},
   "source": [
    "### Checking performances for test_data3"
   ]
  },
  {
   "cell_type": "code",
   "execution_count": 24,
   "metadata": {
    "scrolled": true
   },
   "outputs": [
    {
     "name": "stdout",
     "output_type": "stream",
     "text": [
      "Overall Time: 21\n"
     ]
    }
   ],
   "source": [
    "# 1 core\n",
    "pool_process(check_prime, test_data3, 1)"
   ]
  },
  {
   "cell_type": "code",
   "execution_count": 25,
   "metadata": {
    "scrolled": true
   },
   "outputs": [
    {
     "name": "stdout",
     "output_type": "stream",
     "text": [
      "Overall Time: 12\n"
     ]
    }
   ],
   "source": [
    "# 2 cores\n",
    "pool_process(check_prime, test_data3, 2)"
   ]
  },
  {
   "cell_type": "code",
   "execution_count": 26,
   "metadata": {
    "scrolled": true
   },
   "outputs": [
    {
     "name": "stdout",
     "output_type": "stream",
     "text": [
      "Overall Time: 12\n"
     ]
    }
   ],
   "source": [
    "# 3 cores\n",
    "pool_process(check_prime, test_data3, 3)"
   ]
  },
  {
   "cell_type": "code",
   "execution_count": 27,
   "metadata": {
    "scrolled": true
   },
   "outputs": [
    {
     "name": "stdout",
     "output_type": "stream",
     "text": [
      "Overall Time: 13\n"
     ]
    }
   ],
   "source": [
    "# 4 cores\n",
    "pool_process(check_prime, test_data3, 4)"
   ]
  },
  {
   "cell_type": "markdown",
   "metadata": {},
   "source": [
    "**Note:** The results of these evaluations, alongside with the lessons that we could learn from them, are documented in a separate PDF file."
   ]
  },
  {
   "cell_type": "markdown",
   "metadata": {},
   "source": [
    "## Multiprocessing Test 2 (alternative function)\n",
    "We now execute the same performance test using a different function related to integer numbers: the aim is to ask the machine to **find the maximum, the minimum in each sequence (list) contained in an array and return the greatest common divisor between each pair**. Each sequence is made by a custom number of randomly generated integers. \n",
    "\n",
    "The different inputs will be:\n",
    "- 10 lists\n",
    "- 30 lists\n",
    "- 50 lists\n",
    "- 100 lists\n",
    "\n",
    "The method is defined as follows."
   ]
  },
  {
   "cell_type": "code",
   "execution_count": 4,
   "metadata": {},
   "outputs": [],
   "source": [
    "def gcd(my_list):\n",
    "    \"\"\"Find max and min, then compute greatest common divisor between the two\"\"\"\n",
    "\n",
    "    def find_max(arr):\n",
    "        maxi = 0\n",
    "        for i in arr:\n",
    "            if i > maxi:\n",
    "                maxi = i\n",
    "        return maxi\n",
    "\n",
    "    def find_min(arr):\n",
    "        mini = arr[0]\n",
    "        for i in arr:\n",
    "            if i < mini:\n",
    "                mini = i\n",
    "        return mini\n",
    "\n",
    "    a = find_max(my_list)\n",
    "    #print(\"Max in the list is: \", a)\n",
    "    b = find_min(my_list)\n",
    "    #print(\"Min in the list is: \", b)\n",
    "    \n",
    "    if (b == 0):\n",
    "        return a\n",
    "    else:\n",
    "        my_newlist = []\n",
    "        my_newlist.append(b)\n",
    "        my_newlist.append(a % b)\n",
    "        return gcd(my_newlist)"
   ]
  },
  {
   "cell_type": "markdown",
   "metadata": {},
   "source": [
    "We used the **random** python library to develop a simple function to create a list of lists containing random integers, so we can use it on our test function **(gdc)** to assess how its performance changes when using multiprocessing."
   ]
  },
  {
   "cell_type": "code",
   "execution_count": 5,
   "metadata": {},
   "outputs": [],
   "source": [
    "import random\n",
    "def random_integer_list(n, n2):\n",
    "    \"\"\"Generates a list containing n lists of n2 random integers each\"\"\"\n",
    "    \n",
    "    result_list = []\n",
    "    # iterates over n number of lists\n",
    "    for i in range(n):\n",
    "        #creates a single list of n2 random integers\n",
    "        random_list = random.sample(range(10**12), n2)\n",
    "        result_list.append(random_list)\n",
    "    return result_list"
   ]
  },
  {
   "cell_type": "code",
   "execution_count": 25,
   "metadata": {},
   "outputs": [],
   "source": [
    "# Different test_data variables that will be used\n",
    "\n",
    "# 30 lists\n",
    "#test_data1 = random_integer_list(30, 10**6)\n",
    "\n",
    "# 50 lists\n",
    "#test_data2 = random_integer_list(50, 10**6)\n",
    "\n",
    "# 70 lists\n",
    "#test_data3 = random_integer_list(70, 10**6)\n",
    "\n",
    "# 100 lists\n",
    "#test_data4 = random_integer_list(100, 10**6)"
   ]
  },
  {
   "cell_type": "markdown",
   "metadata": {},
   "source": [
    "### Checking performances for test_data1"
   ]
  },
  {
   "cell_type": "code",
   "execution_count": 8,
   "metadata": {},
   "outputs": [
    {
     "name": "stdout",
     "output_type": "stream",
     "text": [
      "Overall Time: 6\n"
     ]
    }
   ],
   "source": [
    "# 1 core\n",
    "pool_process(gcd, random_integer_list(30, 10**6), 1)"
   ]
  },
  {
   "cell_type": "code",
   "execution_count": 9,
   "metadata": {},
   "outputs": [
    {
     "name": "stdout",
     "output_type": "stream",
     "text": [
      "Overall Time: 4\n"
     ]
    }
   ],
   "source": [
    "# 2 cores\n",
    "pool_process(gcd, random_integer_list(30, 10**6), 2)"
   ]
  },
  {
   "cell_type": "code",
   "execution_count": 10,
   "metadata": {},
   "outputs": [
    {
     "name": "stdout",
     "output_type": "stream",
     "text": [
      "Overall Time: 4\n"
     ]
    }
   ],
   "source": [
    "# 3 cores\n",
    "pool_process(gcd, random_integer_list(30, 10**6), 3)"
   ]
  },
  {
   "cell_type": "code",
   "execution_count": 11,
   "metadata": {},
   "outputs": [
    {
     "name": "stdout",
     "output_type": "stream",
     "text": [
      "Overall Time: 4\n"
     ]
    }
   ],
   "source": [
    "# 4 cores\n",
    "pool_process(gcd, random_integer_list(30, 10**6), 4)"
   ]
  },
  {
   "cell_type": "markdown",
   "metadata": {},
   "source": [
    "### Checking performances for test_data2"
   ]
  },
  {
   "cell_type": "code",
   "execution_count": 12,
   "metadata": {},
   "outputs": [
    {
     "name": "stdout",
     "output_type": "stream",
     "text": [
      "Overall Time: 11\n"
     ]
    }
   ],
   "source": [
    "# 1 core\n",
    "pool_process(gcd, random_integer_list(50, 10**6), 1)"
   ]
  },
  {
   "cell_type": "code",
   "execution_count": 13,
   "metadata": {},
   "outputs": [
    {
     "name": "stdout",
     "output_type": "stream",
     "text": [
      "Overall Time: 7\n"
     ]
    }
   ],
   "source": [
    "# 2 cores\n",
    "pool_process(gcd, random_integer_list(50, 10**6), 2)"
   ]
  },
  {
   "cell_type": "code",
   "execution_count": 14,
   "metadata": {},
   "outputs": [
    {
     "name": "stdout",
     "output_type": "stream",
     "text": [
      "Overall Time: 7\n"
     ]
    }
   ],
   "source": [
    "# 3 cores\n",
    "pool_process(gcd, random_integer_list(50, 10**6), 3)"
   ]
  },
  {
   "cell_type": "code",
   "execution_count": 15,
   "metadata": {},
   "outputs": [
    {
     "name": "stdout",
     "output_type": "stream",
     "text": [
      "Overall Time: 7\n"
     ]
    }
   ],
   "source": [
    "# 4 cores\n",
    "pool_process(gcd, random_integer_list(50, 10**6), 4)"
   ]
  },
  {
   "cell_type": "markdown",
   "metadata": {},
   "source": [
    "### Checking performances for test_data3"
   ]
  },
  {
   "cell_type": "code",
   "execution_count": 16,
   "metadata": {},
   "outputs": [
    {
     "name": "stdout",
     "output_type": "stream",
     "text": [
      "Overall Time: 15\n"
     ]
    }
   ],
   "source": [
    "# 1 core\n",
    "pool_process(gcd, random_integer_list(70, 10**6), 1)"
   ]
  },
  {
   "cell_type": "code",
   "execution_count": 17,
   "metadata": {},
   "outputs": [
    {
     "name": "stdout",
     "output_type": "stream",
     "text": [
      "Overall Time: 12\n"
     ]
    }
   ],
   "source": [
    "# 2 cores\n",
    "pool_process(gcd, random_integer_list(70, 10**6), 2)"
   ]
  },
  {
   "cell_type": "code",
   "execution_count": 18,
   "metadata": {},
   "outputs": [
    {
     "name": "stdout",
     "output_type": "stream",
     "text": [
      "Overall Time: 11\n"
     ]
    }
   ],
   "source": [
    "# 3 cores\n",
    "pool_process(gcd, random_integer_list(70, 10**6), 3)"
   ]
  },
  {
   "cell_type": "code",
   "execution_count": 19,
   "metadata": {},
   "outputs": [
    {
     "name": "stdout",
     "output_type": "stream",
     "text": [
      "Overall Time: 10\n"
     ]
    }
   ],
   "source": [
    "# 4 cores\n",
    "pool_process(gcd, random_integer_list(70, 10**6), 4)"
   ]
  },
  {
   "cell_type": "markdown",
   "metadata": {},
   "source": [
    "### Checking performances for test_data4"
   ]
  },
  {
   "cell_type": "code",
   "execution_count": 20,
   "metadata": {},
   "outputs": [
    {
     "name": "stdout",
     "output_type": "stream",
     "text": [
      "Overall Time: 37\n"
     ]
    }
   ],
   "source": [
    "# 4 cores\n",
    "pool_process(gcd, random_integer_list(100, 10**6), 1)"
   ]
  },
  {
   "cell_type": "code",
   "execution_count": 22,
   "metadata": {
    "scrolled": true
   },
   "outputs": [
    {
     "name": "stdout",
     "output_type": "stream",
     "text": [
      "Overall Time: 19\n"
     ]
    }
   ],
   "source": [
    "# 4 cores\n",
    "pool_process(gcd, random_integer_list(100, 10**6), 2)"
   ]
  },
  {
   "cell_type": "code",
   "execution_count": 23,
   "metadata": {
    "scrolled": true
   },
   "outputs": [
    {
     "name": "stdout",
     "output_type": "stream",
     "text": [
      "Overall Time: 19\n"
     ]
    }
   ],
   "source": [
    "# 4 cores\n",
    "pool_process(gcd, random_integer_list(100, 10**6), 3)"
   ]
  },
  {
   "cell_type": "code",
   "execution_count": 24,
   "metadata": {
    "scrolled": true
   },
   "outputs": [
    {
     "name": "stdout",
     "output_type": "stream",
     "text": [
      "Overall Time: 18\n"
     ]
    }
   ],
   "source": [
    "# 4 cores\n",
    "pool_process(gcd, random_integer_list(100, 10**6), 4)"
   ]
  },
  {
   "cell_type": "markdown",
   "metadata": {},
   "source": [
    "**Note:** The results of these evaluations, alongside with the lessons that we could learn from them, are documented in a separate PDF file."
   ]
  }
 ],
 "metadata": {
  "kernelspec": {
   "display_name": "Python 3",
   "language": "python",
   "name": "python3"
  },
  "language_info": {
   "codemirror_mode": {
    "name": "ipython",
    "version": 3
   },
   "file_extension": ".py",
   "mimetype": "text/x-python",
   "name": "python",
   "nbconvert_exporter": "python",
   "pygments_lexer": "ipython3",
   "version": "3.7.0"
  },
  "toc": {
   "base_numbering": 1,
   "nav_menu": {},
   "number_sections": true,
   "sideBar": true,
   "skip_h1_title": true,
   "title_cell": "Table of Contents",
   "title_sidebar": "Contents",
   "toc_cell": false,
   "toc_position": {},
   "toc_section_display": true,
   "toc_window_display": true
  }
 },
 "nbformat": 4,
 "nbformat_minor": 2
}
