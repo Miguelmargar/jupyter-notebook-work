{
 "cells": [
  {
   "cell_type": "code",
   "execution_count": 4,
   "metadata": {},
   "outputs": [],
   "source": [
    "## Component will check dublin bus twitter for last 24 hours, check the disruption hashtag, and retrieve tweets relevant to selected route\n",
    "###Note - \"due to\" used in tweets for large events\n",
    "\n"
   ]
  },
  {
   "cell_type": "code",
   "execution_count": 1,
   "metadata": {},
   "outputs": [],
   "source": [
    "def notification_check(route):\n",
    "    from tweepy import OAuthHandler\n",
    "    from tweepy import API\n",
    "    from tweepy import Cursor\n",
    "    from datetime import datetime, date, time, timedelta\n",
    "    from collections import Counter\n",
    "    import sys\n",
    "    #These are my twitter access tokens - I will revoke after project\n",
    "    ACCESS_TOKEN = '52064929-gZaO53w9BuQNZzp2DPNNWYhDH602wBDH5bIW0WbAi'\n",
    "    ACCESS_SECRET = 'a8aPm6uJIQq7zBZVzBUxOuyVXXlWlpqYWP5jT3aoR9MaJ'\n",
    "    CONSUMER_KEY = '1kMiypEgdzcN0klIT2HQMPyXc'\n",
    "    CONSUMER_SECRET = 'RhJNFUPrG8EOArbqlW7xhxCns8VJ0HjLJ3njMYBiPIdbI4wBNB'\n",
    "    \n",
    "    auth = OAuthHandler(CONSUMER_KEY, CONSUMER_SECRET)\n",
    "    auth.set_access_token(ACCESS_TOKEN, ACCESS_SECRET)\n",
    "    auth_api = API(auth)\n",
    "    \n",
    "    end_date = datetime.utcnow() - timedelta(days=2)\n",
    "    tweetlist=[]\n",
    "    for status in Cursor(auth_api.user_timeline, id=\"@dublinbusnews\").items():\n",
    "        if \"#DBSvcUpdate\" in status.text:  \n",
    "            if (\"#DB\" + route) in status.text:\n",
    "                tweetlist.append(status.text)\n",
    "            if \"due to\" in status.text:\n",
    "                tweetlist.append(status.text)\n",
    "        if status.created_at < end_date:\n",
    "            break\n",
    "    return(tweetlist)"
   ]
  },
  {
   "cell_type": "code",
   "execution_count": 3,
   "metadata": {},
   "outputs": [
    {
     "data": {
      "text/plain": [
       "['#DBSvcUpdate Diversion on Route #DB33, Sunday 11 August 2019, https://t.co/vK0YEqhjH0 https://t.co/nfS8rfsOIE',\n",
       " \"#DBSvcUpdate Diversions due to Rock'n'Roll Half Marathon, Sunday 11 August 2019 https://t.co/6ibD3bkE8e https://t.co/d1PakFr6m0\"]"
      ]
     },
     "execution_count": 3,
     "metadata": {},
     "output_type": "execute_result"
    }
   ],
   "source": [
    "notification_check(\"33\")"
   ]
  },
  {
   "cell_type": "code",
   "execution_count": null,
   "metadata": {},
   "outputs": [],
   "source": []
  }
 ],
 "metadata": {
  "kernelspec": {
   "display_name": "Python 3",
   "language": "python",
   "name": "python3"
  },
  "language_info": {
   "codemirror_mode": {
    "name": "ipython",
    "version": 3
   },
   "file_extension": ".py",
   "mimetype": "text/x-python",
   "name": "python",
   "nbconvert_exporter": "python",
   "pygments_lexer": "ipython3",
   "version": "3.7.0"
  },
  "toc": {
   "base_numbering": 1,
   "nav_menu": {},
   "number_sections": true,
   "sideBar": true,
   "skip_h1_title": false,
   "title_cell": "Table of Contents",
   "title_sidebar": "Contents",
   "toc_cell": false,
   "toc_position": {},
   "toc_section_display": true,
   "toc_window_display": false
  }
 },
 "nbformat": 4,
 "nbformat_minor": 2
}
