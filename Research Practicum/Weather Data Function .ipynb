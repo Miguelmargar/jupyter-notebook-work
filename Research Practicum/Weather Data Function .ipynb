{
 "cells": [
  {
   "cell_type": "code",
   "execution_count": 52,
   "metadata": {},
   "outputs": [],
   "source": [
    "def weather_get(date,time):\n",
    "    resultdic = {}\n",
    "    from darksky import forecast\n",
    "    from datetime import datetime as dt\n",
    "    # format - 2018-10-24T19:06:32\n",
    "    try:\n",
    "        time = str(date) + \"T\" + str(time)\n",
    "        weather = forecast(\"0f94f1e529d8359a54cc753b465312d7\", 53.344505, -6.258602,time=time)\n",
    "        resultdic[\"temperature\"] = weather.temperature\n",
    "        resultdic[\"rain\"] = weather.precipIntensity\n",
    "        resultdic[\"humidity\"] = weather.humidity\n",
    "        return(resultdic)\n",
    "    except IOError as e:\n",
    "        return (\"ERROR_WEATHER_GET\",e)"
   ]
  },
  {
   "cell_type": "code",
   "execution_count": 55,
   "metadata": {},
   "outputs": [
    {
     "data": {
      "text/plain": [
       "{'temperature': 65.47, 'rain': 0.0023, 'humidity': 0.49}"
      ]
     },
     "execution_count": 55,
     "metadata": {},
     "output_type": "execute_result"
    }
   ],
   "source": [
    "weather_get(\"2018-08-08\",\"14:19:00\")"
   ]
  },
  {
   "cell_type": "code",
   "execution_count": null,
   "metadata": {},
   "outputs": [],
   "source": []
  }
 ],
 "metadata": {
  "kernelspec": {
   "display_name": "Python 3",
   "language": "python",
   "name": "python3"
  },
  "language_info": {
   "codemirror_mode": {
    "name": "ipython",
    "version": 3
   },
   "file_extension": ".py",
   "mimetype": "text/x-python",
   "name": "python",
   "nbconvert_exporter": "python",
   "pygments_lexer": "ipython3",
   "version": "3.7.3"
  }
 },
 "nbformat": 4,
 "nbformat_minor": 2
}
