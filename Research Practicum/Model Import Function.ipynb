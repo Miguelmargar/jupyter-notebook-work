{
 "cells": [
  {
   "cell_type": "code",
   "execution_count": 80,
   "metadata": {},
   "outputs": [],
   "source": [
    "def run_model(stoplist,time,precipitation,temperature,humidity,holiday,weekend):\n",
    "    #Import\n",
    "    import pickle\n",
    "    import csv\n",
    "    import numpy as np\n",
    "    from sklearn.preprocessing import StandardScaler\n",
    "    from sklearn.svm import SVR\n",
    "    \n",
    "    #Import model and scalers\n",
    "    zonedict = {}\n",
    "    with open('stopzones.csv') as zone_csv:\n",
    "        csv_reader = csv.reader(zone_csv, delimiter=',')\n",
    "        for row in csv_reader:\n",
    "            zonedict[str(row[0])] = str(row[1])\n",
    "        \n",
    "\n",
    "    outputdict={}\n",
    "    for i in stoplist:\n",
    "        try:\n",
    "            zone = zonedict[str(i[0])]\n",
    "        except:\n",
    "            zone = 6\n",
    "        target_scaler = 'tar_scaler_{0}.sav'.format(zone)\n",
    "        feature_scaler = 'feat_scaler_{0}.sav'.format(zone)\n",
    "        model = \"model_zone_{0}.sav\".format(zone)\n",
    "\n",
    "        #Load files\n",
    "        tar_scaler = pickle.load(open(target_scaler, 'rb'))\n",
    "        feat_scaler = pickle.load(open(feature_scaler, 'rb'))\n",
    "        model = pickle.load(open(model, 'rb'))\n",
    "\n",
    "        dist = i[1]\n",
    "        to_scale=np.array([time,precipitation,temperature,humidity,dist,holiday,weekend])\n",
    "        to_scale = to_scale.reshape(1, -1)\n",
    "        to_predict= feat_scaler.transform(to_scale)\n",
    "        output = abs(tar_scaler.inverse_transform(model.predict(to_predict)))\n",
    "        outputdict[str(i[0])]=output\n",
    "    return outputdict\n",
    "    \n",
    "    "
   ]
  },
  {
   "cell_type": "code",
   "execution_count": 84,
   "metadata": {},
   "outputs": [
    {
     "data": {
      "text/plain": [
       "{'2': array([76.57933809]), '274': array([290.91273667])}"
      ]
     },
     "execution_count": 84,
     "metadata": {},
     "output_type": "execute_result"
    }
   ],
   "source": [
    "stoplist =[[2,633],[274,20]]\n",
    "run_model(stoplist,30128,0,5.84,0.87,1,0)"
   ]
  },
  {
   "cell_type": "code",
   "execution_count": null,
   "metadata": {},
   "outputs": [],
   "source": []
  }
 ],
 "metadata": {
  "kernelspec": {
   "display_name": "Python 3",
   "language": "python",
   "name": "python3"
  },
  "language_info": {
   "codemirror_mode": {
    "name": "ipython",
    "version": 3
   },
   "file_extension": ".py",
   "mimetype": "text/x-python",
   "name": "python",
   "nbconvert_exporter": "python",
   "pygments_lexer": "ipython3",
   "version": "3.7.0"
  },
  "toc": {
   "base_numbering": 1,
   "nav_menu": {},
   "number_sections": true,
   "sideBar": true,
   "skip_h1_title": false,
   "title_cell": "Table of Contents",
   "title_sidebar": "Contents",
   "toc_cell": false,
   "toc_position": {},
   "toc_section_display": true,
   "toc_window_display": false
  }
 },
 "nbformat": 4,
 "nbformat_minor": 2
}
