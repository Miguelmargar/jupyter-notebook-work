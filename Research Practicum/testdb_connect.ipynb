{
 "cells": [
  {
   "cell_type": "code",
   "execution_count": 1,
   "metadata": {},
   "outputs": [],
   "source": [
    "import pymysql"
   ]
  },
  {
   "cell_type": "code",
   "execution_count": 3,
   "metadata": {},
   "outputs": [
    {
     "name": "stdout",
     "output_type": "stream",
     "text": [
      "(('53.2480439849', '-6.12315403365', '8250DB007556', 'Abberley'), ('53.2284710498', '-6.18549879966', '8250DB004086', 'Dún Laoghaire-Rathdown, Garden Centre'), ('53.3903858903', '-6.27834923697', '8220DB000131', 'Glasnevin North, Glasnevin Avenue (Beneavin Drive)'), ('53.2890402901', '-6.33948636763', '8230DB002554', 'Tallaght, Glenview Park'), ('53.3629069059', '-6.3026421421', '8220DB001806', 'Cabra, Navan Road'), ('53.3316839465', '-6.294557992', '8220DB003952', 'Dolphins Barn, Crumlin Road'), ('53.3256502919', '-6.20733447201', '8220DB000378', 'Sandymount, Sandymount Tower'), ('53.2980278369', '-6.21141728353', '8250DB002080', 'Mount Merrion, North Avenue (Greenfield Road)'), ('53.3033302224', '-6.20957512023', '8250DB002083', 'Belfield, Fosters Avenue (Stillorgan Road)'), ('53.3431789303', '-6.3153808357', '8220DB007435', 'Islandbridge, Memorial Gardens gate'))\n"
     ]
    }
   ],
   "source": [
    "user='root'\n",
    "password='migmarache1982'\n",
    "host='127.0.0.1'\n",
    "database='research'\n",
    "\n",
    "try:\n",
    "    con = pymysql.connect(host=host,database=database,user=user, password=password)\n",
    "except Exception as e:\n",
    "    sys.exit(e)\n",
    "\n",
    "cur = con.cursor()\n",
    "cur.execute(\"SELECT * FROM research.stops LIMIT 10\")\n",
    "data = cur.fetchall()\n",
    "print(data)"
   ]
  },
  {
   "cell_type": "code",
   "execution_count": null,
   "metadata": {},
   "outputs": [],
   "source": []
  }
 ],
 "metadata": {
  "kernelspec": {
   "display_name": "Python 3",
   "language": "python",
   "name": "python3"
  },
  "language_info": {
   "codemirror_mode": {
    "name": "ipython",
    "version": 3
   },
   "file_extension": ".py",
   "mimetype": "text/x-python",
   "name": "python",
   "nbconvert_exporter": "python",
   "pygments_lexer": "ipython3",
   "version": "3.7.0"
  },
  "toc": {
   "base_numbering": 1,
   "nav_menu": {},
   "number_sections": true,
   "sideBar": true,
   "skip_h1_title": false,
   "title_cell": "Table of Contents",
   "title_sidebar": "Contents",
   "toc_cell": false,
   "toc_position": {},
   "toc_section_display": true,
   "toc_window_display": false
  }
 },
 "nbformat": 4,
 "nbformat_minor": 2
}
