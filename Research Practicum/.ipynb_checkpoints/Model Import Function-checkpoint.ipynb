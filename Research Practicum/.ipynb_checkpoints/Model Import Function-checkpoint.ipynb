{
 "cells": [
  {
   "cell_type": "code",
   "execution_count": 41,
   "metadata": {},
   "outputs": [],
   "source": [
    "def run_model(stoplist,holiday,precipitation,temperature,humidity,time):\n",
    "    #Import\n",
    "    import pickle\n",
    "    import numpy as np\n",
    "    from sklearn.preprocessing import StandardScaler\n",
    "    from sklearn.svm import SVR\n",
    "    \n",
    "    #Import model and scalers\n",
    "    target_scaler = 'tar_scaler.sav'\n",
    "    feature_scaler = 'feat_scaler.sav'\n",
    "    model = \"scaledmodelfortesting.pkl\"\n",
    "\n",
    "    #Load files\n",
    "    tar_scaler = pickle.load(open(target_scaler, 'rb'))\n",
    "    feat_scaler = pickle.load(open(feature_scaler, 'rb'))\n",
    "    model = pickle.load(open(model, 'rb'))\n",
    "\n",
    "    outputdict={}\n",
    "    for i in stoplist:\n",
    "        dist = i[1]\n",
    "        to_scale=np.array([holiday,dist,precipitation,temperature,humidity,time])\n",
    "        to_scale = to_scale.reshape(1, -1)\n",
    "        to_predict= feat_scaler.transform(to_scale)\n",
    "        output = tar_scaler.inverse_transform(model.predict(to_predict))\n",
    "        outputdict[str(i[0])]=output\n",
    "    return outputdict\n",
    "    \n",
    "    "
   ]
  },
  {
   "cell_type": "code",
   "execution_count": 49,
   "metadata": {},
   "outputs": [
    {
     "data": {
      "text/plain": [
       "{'273': array([53.17229084]), '274': array([55.1609414])}"
      ]
     },
     "execution_count": 49,
     "metadata": {},
     "output_type": "execute_result"
    }
   ],
   "source": [
    "stoplist =[[273,400],[274,421]]\n",
    "run_model(stoplist,1,0.0,5.84,.87,28800)"
   ]
  }
 ],
 "metadata": {
  "kernelspec": {
   "display_name": "Python 3",
   "language": "python",
   "name": "python3"
  },
  "language_info": {
   "codemirror_mode": {
    "name": "ipython",
    "version": 3
   },
   "file_extension": ".py",
   "mimetype": "text/x-python",
   "name": "python",
   "nbconvert_exporter": "python",
   "pygments_lexer": "ipython3",
   "version": "3.7.0"
  },
  "toc": {
   "base_numbering": 1,
   "nav_menu": {},
   "number_sections": true,
   "sideBar": true,
   "skip_h1_title": false,
   "title_cell": "Table of Contents",
   "title_sidebar": "Contents",
   "toc_cell": false,
   "toc_position": {},
   "toc_section_display": true,
   "toc_window_display": false
  }
 },
 "nbformat": 4,
 "nbformat_minor": 2
}
