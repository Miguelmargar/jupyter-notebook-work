{
 "cells": [
  {
   "cell_type": "code",
   "execution_count": 13,
   "metadata": {},
   "outputs": [],
   "source": [
    "def weekend_holiday(date):\n",
    "    \n",
    "    import datetime\n",
    "    import holidays\n",
    "    \n",
    "    #Date format - 2018-01-01 (y-m-d) - string\n",
    "    return_dic = {}\n",
    "    holidays = holidays.Ireland()\n",
    "    try:\n",
    "        if datetime.datetime.strptime(date,'%Y-%m-%d').weekday() > 4:\n",
    "            return_dic[\"weekend\"]= 1\n",
    "        else:\n",
    "            return_dic[\"weekend\"]= 0\n",
    "        \n",
    "        if datetime.datetime.strptime(date,'%Y-%m-%d') in holidays:\n",
    "            return_dic[\"holiday\"]= 1\n",
    "        else:\n",
    "            return_dic[\"holiday\"]= 0\n",
    "        return (return_dic)\n",
    "    except ValueError as e:\n",
    "        return (\"ERROR_WEEKEND_HOLIDAY\",e)"
   ]
  },
  {
   "cell_type": "code",
   "execution_count": 16,
   "metadata": {},
   "outputs": [
    {
     "data": {
      "text/plain": [
       "{'weekend': 1, 'holiday': 0}"
      ]
     },
     "execution_count": 16,
     "metadata": {},
     "output_type": "execute_result"
    }
   ],
   "source": [
    "weekend_holiday(\"2019-08-10\")"
   ]
  },
  {
   "cell_type": "code",
   "execution_count": null,
   "metadata": {},
   "outputs": [],
   "source": []
  }
 ],
 "metadata": {
  "kernelspec": {
   "display_name": "Python 3",
   "language": "python",
   "name": "python3"
  },
  "language_info": {
   "codemirror_mode": {
    "name": "ipython",
    "version": 3
   },
   "file_extension": ".py",
   "mimetype": "text/x-python",
   "name": "python",
   "nbconvert_exporter": "python",
   "pygments_lexer": "ipython3",
   "version": "3.7.0"
  },
  "toc": {
   "base_numbering": 1,
   "nav_menu": {},
   "number_sections": true,
   "sideBar": true,
   "skip_h1_title": false,
   "title_cell": "Table of Contents",
   "title_sidebar": "Contents",
   "toc_cell": false,
   "toc_position": {},
   "toc_section_display": true,
   "toc_window_display": false
  }
 },
 "nbformat": 4,
 "nbformat_minor": 2
}
