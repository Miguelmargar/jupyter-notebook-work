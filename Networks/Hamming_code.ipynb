{
 "cells": [
  {
   "cell_type": "code",
   "execution_count": null,
   "metadata": {},
   "outputs": [],
   "source": [
    "bits = input(\"Please input the bit stream: \")\n",
    "\n",
    "def hammingEncoder():\n",
    "    \n",
    "    #Check all input to be in binary and count number of digits if so\n",
    "    good = [\"0\", \"1\"]\n",
    "    count = 0\n",
    "    for i in bits:\n",
    "        if i in good:\n",
    "            count += 1\n",
    "        else:\n",
    "            print(\"Error: Input must be binary\")\n",
    "            \n",
    "   \n",
    "            \n",
    "    \n",
    "    "
   ]
  },
  {
   "cell_type": "code",
   "execution_count": 34,
   "metadata": {},
   "outputs": [
    {
     "name": "stdout",
     "output_type": "stream",
     "text": [
      "Please input the bit stream: 10110101\n"
     ]
    },
    {
     "data": {
      "text/plain": [
       "'1'"
      ]
     },
     "execution_count": 34,
     "metadata": {},
     "output_type": "execute_result"
    }
   ],
   "source": [
    "bits = input(\"Please input the bit stream: \")\n",
    "\n",
    "def get_xor(binary):\n",
    "    \"\"\"\n",
    "    Check the input xor result\n",
    "    \"\"\"\n",
    "    #check the first digit of the input\n",
    "    result = 0\n",
    "    if binary[0] == \"1\":\n",
    "        result = 1\n",
    "        \n",
    "    # loop through the input and xor it to get final result\n",
    "    for i in range(len(binary) -1):\n",
    "        if (result + int(binary[i + 1])) == 1:\n",
    "            result = 1\n",
    "        else:\n",
    "            result = 0\n",
    "      \n",
    "    return str(result)\n",
    "            \n",
    "get_xor(bits)    "
   ]
  },
  {
   "cell_type": "code",
   "execution_count": 73,
   "metadata": {},
   "outputs": [
    {
     "name": "stdout",
     "output_type": "stream",
     "text": [
      "Please input the bit stream: 1234\n"
     ]
    },
    {
     "data": {
      "text/plain": [
       "[1, 2, 4]"
      ]
     },
     "execution_count": 73,
     "metadata": {},
     "output_type": "execute_result"
    }
   ],
   "source": [
    "bits = input(\"Please input the bit stream: \")\n",
    "\n",
    "def get_mod(count):\n",
    "    mod = []\n",
    "    square = 1\n",
    "    for i, k in enumerate(count):\n",
    "        if i == 0:\n",
    "            mod.append(1)\n",
    "            square *= 2\n",
    "            mod.append(square)\n",
    "            \n",
    "        elif i % square == 0:\n",
    "            square *= 2\n",
    "            mod.append(square)   \n",
    "            \n",
    "        else:\n",
    "            continue\n",
    "    return mod\n",
    "\n",
    "get_mod(bits)"
   ]
  }
 ],
 "metadata": {
  "kernelspec": {
   "display_name": "Python 3",
   "language": "python",
   "name": "python3"
  },
  "language_info": {
   "codemirror_mode": {
    "name": "ipython",
    "version": 3
   },
   "file_extension": ".py",
   "mimetype": "text/x-python",
   "name": "python",
   "nbconvert_exporter": "python",
   "pygments_lexer": "ipython3",
   "version": "3.7.0"
  },
  "toc": {
   "base_numbering": 1,
   "nav_menu": {},
   "number_sections": true,
   "sideBar": true,
   "skip_h1_title": false,
   "title_cell": "Table of Contents",
   "title_sidebar": "Contents",
   "toc_cell": false,
   "toc_position": {},
   "toc_section_display": true,
   "toc_window_display": false
  }
 },
 "nbformat": 4,
 "nbformat_minor": 2
}
