{
 "cells": [
  {
   "cell_type": "code",
   "execution_count": 77,
   "metadata": {},
   "outputs": [
    {
     "name": "stdout",
     "output_type": "stream",
     "text": [
      "Please input the bit stream: 111100000001\n",
      "111011111001001\n"
     ]
    }
   ],
   "source": [
    "codes = {\"0000\": \"11110\", \"0001\": \"01001\", \"0010\": \"10100\", \"0011\": \"10101\", \"0100\": \"01010\", \"0101\":\"01011\", \"0110\":\"01110\",\n",
    "        \"0111\":\"01111\", \"1000\":\"10010\", \"1001\":\"10011\", \"1010\":\"10110\", \"1011\":\"10111\", \"1100\":\"11010\", \"1101\":\"11011\",\n",
    "         \"1110\":\"11100\", \"1111\":\"11101\"}\n",
    "\n",
    "bits = input(\"Please input the bit stream: \")\n",
    "\n",
    "def modulateInputs():\n",
    "    \"\"\"    \n",
    "    -Take input, in this case from the user, then check the input against a list of accepted inputs and return the 4B/5B\n",
    "    encoding\n",
    "    -input needs to be 4 bit binary.\n",
    "    \"\"\"\n",
    "    \n",
    "    encoded = \"\"\n",
    "    good = [\"0\", \"1\"]\n",
    "    \n",
    "    #Check all input to be binary\n",
    "    count = 0\n",
    "    for i in bits:\n",
    "        if i in good:\n",
    "            count += 1\n",
    "        else:\n",
    "            print(\"Error: Input must be in 4 bit binary\")\n",
    "        \n",
    "    # Check input binary is the correct length\n",
    "    if count % 4 == 0:\n",
    "        \n",
    "        # loop through user input\n",
    "        for i,k in enumerate(bits):\n",
    "            \n",
    "            # Select the correct 4 bits to check\n",
    "            if (i == 0) or (i % 4 == 0):\n",
    "#                 print(\"key is:\",i,\"value is:\", k)\n",
    "#                 print(bits[i:i+4])\n",
    "\n",
    "                # Check that the binary bits are in the list of codes\n",
    "                if bits[i:i+4] in codes:\n",
    "                    # If they are add to the empty variable for final print\n",
    "                    encoded += codes[bits[i:i+4]]\n",
    "                else:\n",
    "                    continue\n",
    "            else:\n",
    "                continue\n",
    "                  \n",
    "        print(encoded)\n",
    "        \n",
    "    # If not mod 4 it is incorrect, print error message\n",
    "    else:\n",
    "        print(\"Error: Input must be in 4 bit binary\")\n",
    "    \n",
    "modulateInputs()\n",
    "            \n",
    "    \n",
    "    "
   ]
  }
 ],
 "metadata": {
  "kernelspec": {
   "display_name": "Python 3",
   "language": "python",
   "name": "python3"
  },
  "language_info": {
   "codemirror_mode": {
    "name": "ipython",
    "version": 3
   },
   "file_extension": ".py",
   "mimetype": "text/x-python",
   "name": "python",
   "nbconvert_exporter": "python",
   "pygments_lexer": "ipython3",
   "version": "3.7.0"
  },
  "toc": {
   "base_numbering": 1,
   "nav_menu": {},
   "number_sections": true,
   "sideBar": true,
   "skip_h1_title": false,
   "title_cell": "Table of Contents",
   "title_sidebar": "Contents",
   "toc_cell": false,
   "toc_position": {},
   "toc_section_display": true,
   "toc_window_display": false
  }
 },
 "nbformat": 4,
 "nbformat_minor": 2
}
