{
 "cells": [
  {
   "cell_type": "code",
   "execution_count": 47,
   "metadata": {},
   "outputs": [
    {
     "name": "stdout",
     "output_type": "stream",
     "text": [
      "a: [-200 -100    1    1    1    2    2    3    3    4    4    4    5    6\n",
      "    7    7    8    8    9    9   10  300  500]\n",
      "max: 500\n",
      "3rd q:8.0\n",
      "1st q:2.0\n",
      "min: -200\n",
      "iqr: 6.0\n",
      "lower: -7.0\n",
      "upper: 17.0\n"
     ]
    }
   ],
   "source": [
    "\n",
    "# Import package numpy for numeric computing\n",
    "import numpy as np\n",
    "\n",
    "# Import package matplotlib for visualisation/plotting\n",
    "import matplotlib.pyplot as plt\n",
    "\n",
    "#For showing plots directly in the notebook run the command below\n",
    "%matplotlib inline\n",
    "\n",
    "a = np.array([-200, -100, 1, 1, 1, 2, 2, 3, 3, 4, 4, 4, 5, 6, 7, 7, 8, 8, 9, 9, 10, 300, 500])\n",
    "\n",
    "print(\"a: \" + str(a))\n",
    "\n",
    "max_a = np.max(a)\n",
    "print(\"max: \" + str(max_a))\n",
    "\n",
    "p_75 = np.percentile(a, 75)\n",
    "print(\"3rd q:\" + str(p_75))\n",
    "\n",
    "p_25 = np.percentile(a, 25)\n",
    "print(\"1st q:\" + str(p_25))\n",
    "\n",
    "min_a = np.min(a)\n",
    "print(\"min: \" + str(min_a))\n",
    "\n",
    "iqr = p_75 - p_25\n",
    "print(\"iqr: \" + str(iqr))\n",
    "\n",
    "lower = np.max([min_a, p_25 - 1.5 * iqr])\n",
    "print(\"lower: \" + str(lower))\n",
    "\n",
    "upper = np.min([max_a, p_75 + 1.5 * iqr])\n",
    "print(\"upper: \" + str(upper))"
   ]
  },
  {
   "cell_type": "code",
   "execution_count": 48,
   "metadata": {},
   "outputs": [
    {
     "data": {
      "image/png": "[encoded data removed]",
      "text/plain": [
       "<Figure size 648x432 with 1 Axes>"
      ]
     },
     "metadata": {
      "needs_background": "light"
     },
     "output_type": "display_data"
    }
   ],
   "source": [
    "# Create a figure instance\n",
    "fig = plt.figure(1, figsize=(9, 6))\n",
    "\n",
    "# Create an axes instance\n",
    "ax = fig.add_subplot(111)\n",
    "\n",
    "# Create the boxplot\n",
    "bp = ax.boxplot(a)\n",
    "\n",
    "# Save the figure\n",
    "fig.savefig('boxplot-original-a.png')"
   ]
  },
  {
   "cell_type": "code",
   "execution_count": 49,
   "metadata": {},
   "outputs": [
    {
     "name": "stdout",
     "output_type": "stream",
     "text": [
      "[-200 -100    1    1    1    2    2    3    3    4    4    4    5    6\n",
      "    7    7    8    8    9    9   10  300  500]\n",
      "[-7. -7.  1.  1.  1.  2.  2.  3.  3.  4.  4.  4.  5.  6.  7.  7.  8.  8.\n",
      "  9.  9. 10. 17. 17.]\n"
     ]
    }
   ],
   "source": [
    "#Clamp the values in a to lower and upper bounds\n",
    "a_clampped = np.zeros(a.size)\n",
    "\n",
    "for i in range(a.size):\n",
    "    if a[i] < lower:\n",
    "        a_clampped[i] = lower\n",
    "    elif a[i] > upper:\n",
    "            a_clampped[i] = upper\n",
    "    else: a_clampped[i] = a[i]        \n",
    "    \n",
    "print(a) \n",
    "print(a_clampped) "
   ]
  },
  {
   "cell_type": "code",
   "execution_count": 46,
   "metadata": {},
   "outputs": [
    {
     "data": {
      "image/png": "[encoded data removed]",
      "text/plain": [
       "<Figure size 648x432 with 1 Axes>"
      ]
     },
     "metadata": {
      "needs_background": "light"
     },
     "output_type": "display_data"
    }
   ],
   "source": [
    "# Create a figure instance\n",
    "fig = plt.figure(1, figsize=(9, 6))\n",
    "\n",
    "# Create an axes instance\n",
    "ax = fig.add_subplot(111)\n",
    "\n",
    "# Create the boxplot\n",
    "bp = ax.boxplot([a_clampped])\n",
    "\n",
    "# Save the figure\n",
    "fig.savefig('boxplot-clampped-a.png')"
   ]
  },
  {
   "cell_type": "code",
   "execution_count": null,
   "metadata": {},
   "outputs": [],
   "source": []
  }
 ],
 "metadata": {
  "kernelspec": {
   "display_name": "Python 3",
   "language": "python",
   "name": "python3"
  },
  "language_info": {
   "codemirror_mode": {
    "name": "ipython",
    "version": 3
   },
   "file_extension": ".py",
   "mimetype": "text/x-python",
   "name": "python",
   "nbconvert_exporter": "python",
   "pygments_lexer": "ipython3",
   "version": "3.7.2"
  }
 },
 "nbformat": 4,
 "nbformat_minor": 2
}
