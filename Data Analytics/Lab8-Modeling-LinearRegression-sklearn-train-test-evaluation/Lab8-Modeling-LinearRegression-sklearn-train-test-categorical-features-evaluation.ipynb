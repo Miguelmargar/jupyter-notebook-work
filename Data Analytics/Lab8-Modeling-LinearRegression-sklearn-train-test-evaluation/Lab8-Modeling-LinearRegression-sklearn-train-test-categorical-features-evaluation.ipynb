{
 "cells": [
  {
   "cell_type": "markdown",
   "metadata": {},
   "source": [
    "# Linear Regression\n",
    "The purpose of this notebook is to practice training (also known as fitting), interpreting and evaluating linear regression predictive models. \n",
    "We will use Python packages: pandas, matplotlib and scikit-learn.\n",
    "Besides the material presented in this notebook, please also read this [notebook](http://www.dataschool.io/linear-regression-in-python/) that is very well written, contains many useful details and gives pointers to further reading. \n",
    "\n",
    "Training a linear regression model means estimating a set of weights (one weight per feature, plus an extra weight called the bias or the intercept) on a dataset called the training set. \n",
    "\n",
    "The model estimated is a linear model taking the form:\n",
    "\n",
    "$target\\_feature = w_0 + w_1 * feature_1 + w_2*feature_2 + ...+ w_n*feature_n $\n",
    "\n",
    "The learned model can be used to predict the target feature for new examples where we know the descriptive features, but not the target feature. This is called the test example or the test data. In this notebook we will see the difference between evaluating the model on the training data and measuring the model error (called in-sample error) versus evaluating the model on the test data and measuring that error (called out-of-sample error). It is recommended that we always evaluate our model on a second data sample that was not used during training. This way we avoid overfitting or memorising the training data."
   ]
  },
  {
   "cell_type": "markdown",
   "metadata": {},
   "source": [
    "## Reading data"
   ]
  },
  {
   "cell_type": "code",
   "execution_count": 4,
   "metadata": {},
   "outputs": [],
   "source": [
    "# Library Imports.\n",
    "import pandas as pd\n",
    "import matplotlib.pyplot as plt\n",
    "import numpy as np\n",
    "\n",
    "# Allows plots to appear directly in the notebook.\n",
    "%matplotlib inline\n",
    "\n",
    "from patsy import dmatrices\n",
    "from sklearn.linear_model import LinearRegression\n",
    "from sklearn.model_selection import train_test_split\n",
    "from sklearn import metrics\n",
    "from sklearn.model_selection import cross_validate\n",
    "from sklearn.model_selection import cross_val_score "
   ]
  },
  {
   "cell_type": "code",
   "execution_count": 5,
   "metadata": {},
   "outputs": [
    {
     "data": {
      "text/html": [
       "<div>\n",
       "<style scoped>\n",
       "    .dataframe tbody tr th:only-of-type {\n",
       "        vertical-align: middle;\n",
       "    }\n",
       "\n",
       "    .dataframe tbody tr th {\n",
       "        vertical-align: top;\n",
       "    }\n",
       "\n",
       "    .dataframe thead th {\n",
       "        text-align: right;\n",
       "    }\n",
       "</style>\n",
       "<table border=\"1\" class=\"dataframe\">\n",
       "  <thead>\n",
       "    <tr style=\"text-align: right;\">\n",
       "      <th></th>\n",
       "      <th>ID</th>\n",
       "      <th>Size</th>\n",
       "      <th>Floor</th>\n",
       "      <th>BroadbandRate</th>\n",
       "      <th>EnergyRating</th>\n",
       "      <th>RentalPrice</th>\n",
       "    </tr>\n",
       "  </thead>\n",
       "  <tbody>\n",
       "    <tr>\n",
       "      <th>0</th>\n",
       "      <td>1</td>\n",
       "      <td>500</td>\n",
       "      <td>4</td>\n",
       "      <td>8</td>\n",
       "      <td>C</td>\n",
       "      <td>320</td>\n",
       "    </tr>\n",
       "    <tr>\n",
       "      <th>1</th>\n",
       "      <td>2</td>\n",
       "      <td>550</td>\n",
       "      <td>7</td>\n",
       "      <td>50</td>\n",
       "      <td>A</td>\n",
       "      <td>380</td>\n",
       "    </tr>\n",
       "    <tr>\n",
       "      <th>2</th>\n",
       "      <td>3</td>\n",
       "      <td>620</td>\n",
       "      <td>9</td>\n",
       "      <td>7</td>\n",
       "      <td>A</td>\n",
       "      <td>400</td>\n",
       "    </tr>\n",
       "    <tr>\n",
       "      <th>3</th>\n",
       "      <td>4</td>\n",
       "      <td>630</td>\n",
       "      <td>5</td>\n",
       "      <td>24</td>\n",
       "      <td>B</td>\n",
       "      <td>390</td>\n",
       "    </tr>\n",
       "    <tr>\n",
       "      <th>4</th>\n",
       "      <td>5</td>\n",
       "      <td>665</td>\n",
       "      <td>8</td>\n",
       "      <td>100</td>\n",
       "      <td>C</td>\n",
       "      <td>385</td>\n",
       "    </tr>\n",
       "    <tr>\n",
       "      <th>5</th>\n",
       "      <td>6</td>\n",
       "      <td>700</td>\n",
       "      <td>4</td>\n",
       "      <td>8</td>\n",
       "      <td>B</td>\n",
       "      <td>410</td>\n",
       "    </tr>\n",
       "    <tr>\n",
       "      <th>6</th>\n",
       "      <td>7</td>\n",
       "      <td>770</td>\n",
       "      <td>10</td>\n",
       "      <td>7</td>\n",
       "      <td>B</td>\n",
       "      <td>480</td>\n",
       "    </tr>\n",
       "    <tr>\n",
       "      <th>7</th>\n",
       "      <td>8</td>\n",
       "      <td>880</td>\n",
       "      <td>12</td>\n",
       "      <td>50</td>\n",
       "      <td>A</td>\n",
       "      <td>600</td>\n",
       "    </tr>\n",
       "    <tr>\n",
       "      <th>8</th>\n",
       "      <td>9</td>\n",
       "      <td>920</td>\n",
       "      <td>14</td>\n",
       "      <td>8</td>\n",
       "      <td>C</td>\n",
       "      <td>570</td>\n",
       "    </tr>\n",
       "    <tr>\n",
       "      <th>9</th>\n",
       "      <td>10</td>\n",
       "      <td>1000</td>\n",
       "      <td>9</td>\n",
       "      <td>24</td>\n",
       "      <td>B</td>\n",
       "      <td>620</td>\n",
       "    </tr>\n",
       "  </tbody>\n",
       "</table>\n",
       "</div>"
      ],
      "text/plain": [
       "   ID  Size  Floor  BroadbandRate EnergyRating  RentalPrice\n",
       "0   1   500      4              8            C          320\n",
       "1   2   550      7             50            A          380\n",
       "2   3   620      9              7            A          400\n",
       "3   4   630      5             24            B          390\n",
       "4   5   665      8            100            C          385\n",
       "5   6   700      4              8            B          410\n",
       "6   7   770     10              7            B          480\n",
       "7   8   880     12             50            A          600\n",
       "8   9   920     14              8            C          570\n",
       "9  10  1000      9             24            B          620"
      ]
     },
     "execution_count": 5,
     "metadata": {},
     "output_type": "execute_result"
    }
   ],
   "source": [
    "# Read a CSV dataset with 10 example offices into a dataframe.\n",
    "# The data is described by 5 features (4 descriptive features: Size, Floor, BroadbandRate, EnergyRating;\n",
    "# the target feature: RentalPrice).\n",
    "\n",
    "\n",
    "# Read csv file into a dataframe.\n",
    "df = pd.read_csv('Offices.csv')\n",
    "df.head(10)"
   ]
  },
  {
   "cell_type": "code",
   "execution_count": 6,
   "metadata": {},
   "outputs": [
    {
     "data": {
      "text/plain": [
       "455.5"
      ]
     },
     "execution_count": 6,
     "metadata": {},
     "output_type": "execute_result"
    }
   ],
   "source": [
    "# Print the average RentalPrice in our dataset.\n",
    "# We could use this as a very simple baseline prediction model.\n",
    "# A better prediction model should at least improve on this baseline model.\n",
    "df.RentalPrice.mean()"
   ]
  },
  {
   "cell_type": "code",
   "execution_count": 7,
   "metadata": {},
   "outputs": [
    {
     "data": {
      "text/plain": [
       "ID                int64\n",
       "Size              int64\n",
       "Floor             int64\n",
       "BroadbandRate     int64\n",
       "EnergyRating     object\n",
       "RentalPrice       int64\n",
       "dtype: object"
      ]
     },
     "execution_count": 7,
     "metadata": {},
     "output_type": "execute_result"
    }
   ],
   "source": [
    "# Print the feature types in our dataset.\n",
    "df.dtypes"
   ]
  },
  {
   "cell_type": "markdown",
   "metadata": {},
   "source": [
    "### Preparing the data"
   ]
  },
  {
   "cell_type": "code",
   "execution_count": 90,
   "metadata": {},
   "outputs": [
    {
     "name": "stdout",
     "output_type": "stream",
     "text": [
      "   ID  Size  Floor  BroadbandRate EnergyRating  RentalPrice\n",
      "0   1   500      4              8            C          320\n",
      "1   2   550      7             50            A          380\n",
      "2   3   620      9              7            A          400\n",
      "3   4   630      5             24            B          390\n",
      "4   5   665      8            100            C          385\n",
      "5   6   700      4              8            B          410\n",
      "6   7   770     10              7            B          480\n",
      "7   8   880     12             50            A          600\n",
      "8   9   920     14              8            C          570\n",
      "9  10  1000      9             24            B          620\n",
      "\n",
      "Descriptive features in X:\n",
      "    Size\n",
      "0   500\n",
      "1   550\n",
      "2   620\n",
      "3   630\n",
      "4   665\n",
      "5   700\n",
      "6   770\n",
      "7   880\n",
      "8   920\n",
      "9  1000\n",
      "\n",
      "Target feature in y:\n",
      " 0    320\n",
      "1    380\n",
      "2    400\n",
      "3    390\n",
      "4    385\n",
      "5    410\n",
      "6    480\n",
      "7    600\n",
      "8    570\n",
      "9    620\n",
      "Name: RentalPrice, dtype: int64\n"
     ]
    }
   ],
   "source": [
    "# Prepare the descriptive features\n",
    "print(df.head(10))\n",
    "cont_features = ['Size']\n",
    "#cont_features = ['Size', 'Floor', 'BroadbandRate']\n",
    "\n",
    "X = df[cont_features]\n",
    "y = df.RentalPrice\n",
    "\n",
    "print(\"\\nDescriptive features in X:\\n\", X)\n",
    "print(\"\\nTarget feature in y:\\n\", y)"
   ]
  },
  {
   "cell_type": "markdown",
   "metadata": {},
   "source": [
    "## Multiple linear regression (using more than one feature)\n",
    "### Training the model"
   ]
  },
  {
   "cell_type": "code",
   "execution_count": 91,
   "metadata": {},
   "outputs": [
    {
     "name": "stdout",
     "output_type": "stream",
     "text": [
      "Features: \n",
      " ['Size']\n",
      "Coeficients: \n",
      " [0.62064008]\n",
      "\n",
      "Intercept: \n",
      " 6.466899807301957\n"
     ]
    }
   ],
   "source": [
    "# Use more features for training\n",
    "# Train aka fit, a model using all continuous features.\n",
    "\n",
    "multiple_linreg = LinearRegression().fit(X[cont_features], y)\n",
    "\n",
    "# Print the weights learned for each feature.\n",
    "print(\"Features: \\n\", cont_features)\n",
    "print(\"Coeficients: \\n\", multiple_linreg.coef_)\n",
    "print(\"\\nIntercept: \\n\", multiple_linreg.intercept_)"
   ]
  },
  {
   "cell_type": "markdown",
   "metadata": {},
   "source": [
    "### Testing the model\n",
    "Using the trained model to predict the target feature RentalPrice, given the descriptive features Size, Floor  BroadbandRate."
   ]
  },
  {
   "cell_type": "code",
   "execution_count": 92,
   "metadata": {},
   "outputs": [
    {
     "name": "stdout",
     "output_type": "stream",
     "text": [
      "\n",
      "Predictions with multiple linear regression: \n",
      "\n",
      "   RentalPrice   Predicted\n",
      "0          320  316.786941\n",
      "1          380  347.818946\n",
      "2          400  391.263751\n",
      "3          390  397.470152\n",
      "4          385  419.192555\n",
      "5          410  440.914958\n",
      "6          480  484.359764\n",
      "7          600  552.630173\n",
      "8          570  577.455776\n",
      "9          620  627.106983\n"
     ]
    }
   ],
   "source": [
    "multiple_linreg_predictions = multiple_linreg.predict(X[cont_features])\n",
    "\n",
    "print(\"\\nPredictions with multiple linear regression: \\n\")\n",
    "actual_vs_predicted_multiplelinreg = pd.concat([y, pd.DataFrame(multiple_linreg_predictions, columns=['Predicted'])], axis=1)\n",
    "print(actual_vs_predicted_multiplelinreg)"
   ]
  },
  {
   "cell_type": "code",
   "execution_count": 93,
   "metadata": {},
   "outputs": [
    {
     "name": "stdout",
     "output_type": "stream",
     "text": [
      "Actual - Predicted:\n",
      " 0     3.213059\n",
      "1    32.181054\n",
      "2     8.736249\n",
      "3    -7.470152\n",
      "4   -34.192555\n",
      "5   -30.914958\n",
      "6    -4.359764\n",
      "7    47.369827\n",
      "8    -7.455776\n",
      "9    -7.106983\n",
      "Name: RentalPrice, dtype: float64\n",
      "\n",
      "(Actual - Predicted) squared:\n",
      " 0      10.323746\n",
      "1    1035.620265\n",
      "2      76.322040\n",
      "3      55.803174\n",
      "4    1169.130827\n",
      "5     955.734631\n",
      "6      19.007541\n",
      "7    2243.900508\n",
      "8      55.588601\n",
      "9      50.509207\n",
      "Name: RentalPrice, dtype: float64\n"
     ]
    }
   ],
   "source": [
    "#Pair the actual and the predicted values\n",
    "#This can be done directly with sklearn functions, but below is a manual example to understand how it works\n",
    "prediction_errors = y - multiple_linreg_predictions\n",
    "print(\"Actual - Predicted:\\n\", prediction_errors)\n",
    "print(\"\\n(Actual - Predicted) squared:\\n\", prediction_errors**2)"
   ]
  },
  {
   "cell_type": "code",
   "execution_count": 94,
   "metadata": {},
   "outputs": [
    {
     "name": "stdout",
     "output_type": "stream",
     "text": [
      "\n",
      "Mean Squared Error:\n",
      " 567.19405389423\n",
      "\n",
      "Root Mean Squared Error:\n",
      " 23.815836199769052\n"
     ]
    }
   ],
   "source": [
    "# Print the Mean Squared Error of the model on the training set\n",
    "mse = (prediction_errors** 2).mean()\n",
    "rmse = ((prediction_errors** 2).mean())**0.5\n",
    "\n",
    "print(\"\\nMean Squared Error:\\n\", mse)\n",
    "print(\"\\nRoot Mean Squared Error:\\n\", rmse)"
   ]
  },
  {
   "cell_type": "code",
   "execution_count": 95,
   "metadata": {},
   "outputs": [
    {
     "name": "stdout",
     "output_type": "stream",
     "text": [
      "|Actual - Predicted|:\n",
      " 0     3.213059\n",
      "1    32.181054\n",
      "2     8.736249\n",
      "3     7.470152\n",
      "4    34.192555\n",
      "5    30.914958\n",
      "6     4.359764\n",
      "7    47.369827\n",
      "8     7.455776\n",
      "9     7.106983\n",
      "Name: RentalPrice, dtype: float64\n"
     ]
    }
   ],
   "source": [
    "print(\"|Actual - Predicted|:\\n\", abs(prediction_errors))"
   ]
  },
  {
   "cell_type": "code",
   "execution_count": 96,
   "metadata": {},
   "outputs": [
    {
     "name": "stdout",
     "output_type": "stream",
     "text": [
      "\n",
      "Mean Absolute Error:\n",
      " 18.30003772392207\n"
     ]
    }
   ],
   "source": [
    "# Print the Mean Absolute Error of the model on the training set\n",
    "mae = abs(prediction_errors).mean()\n",
    "print(\"\\nMean Absolute Error:\\n\", mae)"
   ]
  },
  {
   "cell_type": "code",
   "execution_count": 97,
   "metadata": {},
   "outputs": [
    {
     "name": "stdout",
     "output_type": "stream",
     "text": [
      "Actual - Predicted:\n",
      " 0     3.213059\n",
      "1    32.181054\n",
      "2     8.736249\n",
      "3    -7.470152\n",
      "4   -34.192555\n",
      "5   -30.914958\n",
      "6    -4.359764\n",
      "7    47.369827\n",
      "8    -7.455776\n",
      "9    -7.106983\n",
      "Name: RentalPrice, dtype: float64\n",
      "\n",
      "(Actual - Predicted) squared:\n",
      " 0      10.323746\n",
      "1    1035.620265\n",
      "2      76.322040\n",
      "3      55.803174\n",
      "4    1169.130827\n",
      "5     955.734631\n",
      "6      19.007541\n",
      "7    2243.900508\n",
      "8      55.588601\n",
      "9      50.509207\n",
      "Name: RentalPrice, dtype: float64\n",
      "\n",
      " Sum of squared errors:\n",
      " 5671.9405389423\n",
      "\n",
      "AverageModelPredictions:\n",
      " [455.5 455.5 455.5 455.5 455.5 455.5 455.5 455.5 455.5 455.5]\n",
      "Actual - AvgPredictions:\n",
      " 0   -135.5\n",
      "1    -75.5\n",
      "2    -55.5\n",
      "3    -65.5\n",
      "4    -70.5\n",
      "5    -45.5\n",
      "6     24.5\n",
      "7    144.5\n",
      "8    114.5\n",
      "9    164.5\n",
      "Name: RentalPrice, dtype: float64\n",
      "\n",
      "(Actual - AvgPredictions) squared:\n",
      " 0    18360.25\n",
      "1     5700.25\n",
      "2     3080.25\n",
      "3     4290.25\n",
      "4     4970.25\n",
      "5     2070.25\n",
      "6      600.25\n",
      "7    20880.25\n",
      "8    13110.25\n",
      "9    27060.25\n",
      "Name: RentalPrice, dtype: float64\n",
      "\n",
      " Total sum of squared errors:\n",
      " 100122.5\n",
      "\n",
      " R2:\n",
      " 0.9433499908717591\n"
     ]
    }
   ],
   "source": [
    "# Print the R2 of the model on the training set\n",
    "#Pair the actual and the predicted values\n",
    "#This can be done directly with sklearn functions, but below is a manual example to understand how it works\n",
    "\n",
    "prediction_errors = y - multiple_linreg_predictions\n",
    "print(\"Actual - Predicted:\\n\", prediction_errors)\n",
    "print(\"\\n(Actual - Predicted) squared:\\n\", prediction_errors**2)\n",
    "print(\"\\n Sum of squared errors:\\n\", sum(prediction_errors**2))\n",
    "\n",
    "avg_predictions =np.ones(y.shape[0])* df.RentalPrice.mean()\n",
    "\n",
    "print(\"\\nAverageModelPredictions:\\n\", avg_predictions)\n",
    "avgpredictions_errors = y - avg_predictions\n",
    "print(\"Actual - AvgPredictions:\\n\", avgpredictions_errors)\n",
    "print(\"\\n(Actual - AvgPredictions) squared:\\n\", avgpredictions_errors**2)\n",
    "print(\"\\n Total sum of squared errors:\\n\", sum(avgpredictions_errors**2))\n",
    "\n",
    "r2 = 1 - sum(prediction_errors**2)/sum(avgpredictions_errors**2)\n",
    "print(\"\\n R2:\\n\", r2)\n"
   ]
  },
  {
   "cell_type": "code",
   "execution_count": 98,
   "metadata": {},
   "outputs": [],
   "source": [
    "#This function is used repeatedly to compute all metrics\n",
    "def printMetrics(testActualVal, predictions):\n",
    "    #classification evaluation measures\n",
    "    print('\\n==============================================================================')\n",
    "    print(\"MAE: \", metrics.mean_absolute_error(testActualVal, predictions))\n",
    "    #print(\"MSE: \", metrics.mean_squared_error(testActualVal, predictions))\n",
    "    print(\"RMSE: \", metrics.mean_squared_error(testActualVal, predictions)**0.5)\n",
    "    print(\"R2: \", metrics.r2_score(testActualVal, predictions))\n",
    "        "
   ]
  },
  {
   "cell_type": "code",
   "execution_count": 99,
   "metadata": {},
   "outputs": [
    {
     "name": "stdout",
     "output_type": "stream",
     "text": [
      "\n",
      "==============================================================================\n",
      "MAE:  18.30003772392207\n",
      "RMSE:  23.815836199769052\n",
      "R2:  0.9433499908717591\n"
     ]
    }
   ],
   "source": [
    "printMetrics(y, multiple_linreg_predictions)"
   ]
  },
  {
   "cell_type": "markdown",
   "metadata": {},
   "source": [
    "# Training with continuous and categorical features"
   ]
  },
  {
   "cell_type": "code",
   "execution_count": 100,
   "metadata": {},
   "outputs": [
    {
     "name": "stdout",
     "output_type": "stream",
     "text": [
      "EnergyRatingDummies:    EnergyRating_B  EnergyRating_C\n",
      "0               0               1\n",
      "1               0               0\n",
      "2               0               0\n",
      "3               1               0\n",
      "4               0               1\n",
      "5               1               0\n",
      "6               1               0\n",
      "7               0               0\n",
      "8               0               1\n",
      "9               1               0\n",
      "\n",
      "Cont features:  ['Size']\n",
      "Categ features:  ['EnergyRating_B', 'EnergyRating_C']\n",
      "Features:  ['Size', 'EnergyRating_B', 'EnergyRating_C']\n"
     ]
    }
   ],
   "source": [
    "# Use more features for training\n",
    "# Train aka fit, a model using all continuous and categorical features.\n",
    "EnergyRating_dummies = pd.get_dummies(df['EnergyRating'], prefix='EnergyRating', drop_first=True)\n",
    "print(\"EnergyRatingDummies:\", EnergyRating_dummies)\n",
    "\n",
    "categ_features = EnergyRating_dummies.columns.values.tolist()\n",
    "\n",
    "features = cont_features + categ_features\n",
    "print(\"\\nCont features: \", cont_features)\n",
    "print(\"Categ features: \", categ_features)\n",
    "print(\"Features: \", features)"
   ]
  },
  {
   "cell_type": "code",
   "execution_count": 101,
   "metadata": {},
   "outputs": [
    {
     "name": "stdout",
     "output_type": "stream",
     "text": [
      "   ID  Size  Floor  BroadbandRate EnergyRating  RentalPrice  EnergyRating_B  \\\n",
      "0   1   500      4              8            C          320               0   \n",
      "1   2   550      7             50            A          380               0   \n",
      "2   3   620      9              7            A          400               0   \n",
      "3   4   630      5             24            B          390               1   \n",
      "4   5   665      8            100            C          385               0   \n",
      "5   6   700      4              8            B          410               1   \n",
      "6   7   770     10              7            B          480               1   \n",
      "7   8   880     12             50            A          600               0   \n",
      "8   9   920     14              8            C          570               0   \n",
      "9  10  1000      9             24            B          620               1   \n",
      "\n",
      "   EnergyRating_C  \n",
      "0               1  \n",
      "1               0  \n",
      "2               0  \n",
      "3               0  \n",
      "4               1  \n",
      "5               0  \n",
      "6               0  \n",
      "7               0  \n",
      "8               1  \n",
      "9               0  \n",
      "   ID  Size  Floor  BroadbandRate  RentalPrice  EnergyRating_B  EnergyRating_C\n",
      "0   1   500      4              8          320               0               1\n",
      "1   2   550      7             50          380               0               0\n",
      "2   3   620      9              7          400               0               0\n",
      "3   4   630      5             24          390               1               0\n",
      "4   5   665      8            100          385               0               1\n",
      "5   6   700      4              8          410               1               0\n",
      "6   7   770     10              7          480               1               0\n",
      "7   8   880     12             50          600               0               0\n",
      "8   9   920     14              8          570               0               1\n",
      "9  10  1000      9             24          620               1               0\n"
     ]
    }
   ],
   "source": [
    "df_all = pd.concat([df, EnergyRating_dummies], axis=1)\n",
    "print(df_all)\n",
    "\n",
    "df_all = df_all.drop('EnergyRating', axis = 1)\n",
    "print(df_all)"
   ]
  },
  {
   "cell_type": "code",
   "execution_count": 102,
   "metadata": {},
   "outputs": [
    {
     "data": {
      "text/html": [
       "<div>\n",
       "<style scoped>\n",
       "    .dataframe tbody tr th:only-of-type {\n",
       "        vertical-align: middle;\n",
       "    }\n",
       "\n",
       "    .dataframe tbody tr th {\n",
       "        vertical-align: top;\n",
       "    }\n",
       "\n",
       "    .dataframe thead th {\n",
       "        text-align: right;\n",
       "    }\n",
       "</style>\n",
       "<table border=\"1\" class=\"dataframe\">\n",
       "  <thead>\n",
       "    <tr style=\"text-align: right;\">\n",
       "      <th></th>\n",
       "      <th>ID</th>\n",
       "      <th>Size</th>\n",
       "      <th>Floor</th>\n",
       "      <th>BroadbandRate</th>\n",
       "      <th>RentalPrice</th>\n",
       "      <th>EnergyRating_B</th>\n",
       "      <th>EnergyRating_C</th>\n",
       "    </tr>\n",
       "  </thead>\n",
       "  <tbody>\n",
       "    <tr>\n",
       "      <th>0</th>\n",
       "      <td>1</td>\n",
       "      <td>500</td>\n",
       "      <td>4</td>\n",
       "      <td>8</td>\n",
       "      <td>320</td>\n",
       "      <td>0</td>\n",
       "      <td>1</td>\n",
       "    </tr>\n",
       "    <tr>\n",
       "      <th>1</th>\n",
       "      <td>2</td>\n",
       "      <td>550</td>\n",
       "      <td>7</td>\n",
       "      <td>50</td>\n",
       "      <td>380</td>\n",
       "      <td>0</td>\n",
       "      <td>0</td>\n",
       "    </tr>\n",
       "    <tr>\n",
       "      <th>2</th>\n",
       "      <td>3</td>\n",
       "      <td>620</td>\n",
       "      <td>9</td>\n",
       "      <td>7</td>\n",
       "      <td>400</td>\n",
       "      <td>0</td>\n",
       "      <td>0</td>\n",
       "    </tr>\n",
       "    <tr>\n",
       "      <th>3</th>\n",
       "      <td>4</td>\n",
       "      <td>630</td>\n",
       "      <td>5</td>\n",
       "      <td>24</td>\n",
       "      <td>390</td>\n",
       "      <td>1</td>\n",
       "      <td>0</td>\n",
       "    </tr>\n",
       "    <tr>\n",
       "      <th>4</th>\n",
       "      <td>5</td>\n",
       "      <td>665</td>\n",
       "      <td>8</td>\n",
       "      <td>100</td>\n",
       "      <td>385</td>\n",
       "      <td>0</td>\n",
       "      <td>1</td>\n",
       "    </tr>\n",
       "    <tr>\n",
       "      <th>5</th>\n",
       "      <td>6</td>\n",
       "      <td>700</td>\n",
       "      <td>4</td>\n",
       "      <td>8</td>\n",
       "      <td>410</td>\n",
       "      <td>1</td>\n",
       "      <td>0</td>\n",
       "    </tr>\n",
       "    <tr>\n",
       "      <th>6</th>\n",
       "      <td>7</td>\n",
       "      <td>770</td>\n",
       "      <td>10</td>\n",
       "      <td>7</td>\n",
       "      <td>480</td>\n",
       "      <td>1</td>\n",
       "      <td>0</td>\n",
       "    </tr>\n",
       "    <tr>\n",
       "      <th>7</th>\n",
       "      <td>8</td>\n",
       "      <td>880</td>\n",
       "      <td>12</td>\n",
       "      <td>50</td>\n",
       "      <td>600</td>\n",
       "      <td>0</td>\n",
       "      <td>0</td>\n",
       "    </tr>\n",
       "    <tr>\n",
       "      <th>8</th>\n",
       "      <td>9</td>\n",
       "      <td>920</td>\n",
       "      <td>14</td>\n",
       "      <td>8</td>\n",
       "      <td>570</td>\n",
       "      <td>0</td>\n",
       "      <td>1</td>\n",
       "    </tr>\n",
       "    <tr>\n",
       "      <th>9</th>\n",
       "      <td>10</td>\n",
       "      <td>1000</td>\n",
       "      <td>9</td>\n",
       "      <td>24</td>\n",
       "      <td>620</td>\n",
       "      <td>1</td>\n",
       "      <td>0</td>\n",
       "    </tr>\n",
       "  </tbody>\n",
       "</table>\n",
       "</div>"
      ],
      "text/plain": [
       "   ID  Size  Floor  BroadbandRate  RentalPrice  EnergyRating_B  EnergyRating_C\n",
       "0   1   500      4              8          320               0               1\n",
       "1   2   550      7             50          380               0               0\n",
       "2   3   620      9              7          400               0               0\n",
       "3   4   630      5             24          390               1               0\n",
       "4   5   665      8            100          385               0               1\n",
       "5   6   700      4              8          410               1               0\n",
       "6   7   770     10              7          480               1               0\n",
       "7   8   880     12             50          600               0               0\n",
       "8   9   920     14              8          570               0               1\n",
       "9  10  1000      9             24          620               1               0"
      ]
     },
     "execution_count": 102,
     "metadata": {},
     "output_type": "execute_result"
    }
   ],
   "source": [
    "#We can also do this directly for all categorical features\n",
    "df = pd.get_dummies(df, drop_first=True)\n",
    "df"
   ]
  },
  {
   "cell_type": "code",
   "execution_count": 103,
   "metadata": {},
   "outputs": [
    {
     "name": "stdout",
     "output_type": "stream",
     "text": [
      "\n",
      "Descriptive features in X:\n",
      "    Size  EnergyRating_B  EnergyRating_C\n",
      "0   500               0               1\n",
      "1   550               0               0\n",
      "2   620               0               0\n",
      "3   630               1               0\n",
      "4   665               0               1\n",
      "5   700               1               0\n",
      "6   770               1               0\n",
      "7   880               0               0\n",
      "8   920               0               1\n",
      "9  1000               1               0\n",
      "\n",
      "Target feature in y:\n",
      " 0    320\n",
      "1    380\n",
      "2    400\n",
      "3    390\n",
      "4    385\n",
      "5    410\n",
      "6    480\n",
      "7    600\n",
      "8    570\n",
      "9    620\n",
      "Name: RentalPrice, dtype: int64\n"
     ]
    }
   ],
   "source": [
    "X = df_all[features]\n",
    "y = df_all.RentalPrice\n",
    "\n",
    "print(\"\\nDescriptive features in X:\\n\", X)\n",
    "print(\"\\nTarget feature in y:\\n\", y)"
   ]
  },
  {
   "cell_type": "code",
   "execution_count": 104,
   "metadata": {},
   "outputs": [
    {
     "name": "stdout",
     "output_type": "stream",
     "text": [
      "\n",
      "Intercept: \n",
      " 20.810909890754317\n",
      "Features and coeficients: [('Size', 0.6427157416232864), ('EnergyRating_B', -43.91560964880125), ('EnergyRating_C', -42.49835031893834)]\n"
     ]
    }
   ],
   "source": [
    "# Use more features for training\n",
    "# Train aka fit, a model using all continuous and categorical features.\n",
    "\n",
    "multiple_linreg = LinearRegression().fit(X, y)\n",
    "\n",
    "# Print the weights learned for each feature.\n",
    "#print(\"Features: \\n\", features)\n",
    "#print(\"Coeficients: \\n\", multiple_linreg.coef_)\n",
    "print(\"\\nIntercept: \\n\", multiple_linreg.intercept_)\n",
    "print(\"Features and coeficients:\", list(zip(features, multiple_linreg.coef_)))"
   ]
  },
  {
   "cell_type": "code",
   "execution_count": 105,
   "metadata": {},
   "outputs": [
    {
     "name": "stdout",
     "output_type": "stream",
     "text": [
      "\n",
      "Predictions with multiple linear regression: \n",
      "\n",
      "   ID  Size  Floor  BroadbandRate  RentalPrice  EnergyRating_B  \\\n",
      "0   1   500      4              8          320               0   \n",
      "1   2   550      7             50          380               0   \n",
      "2   3   620      9              7          400               0   \n",
      "3   4   630      5             24          390               1   \n",
      "4   5   665      8            100          385               0   \n",
      "5   6   700      4              8          410               1   \n",
      "6   7   770     10              7          480               1   \n",
      "7   8   880     12             50          600               0   \n",
      "8   9   920     14              8          570               0   \n",
      "9  10  1000      9             24          620               1   \n",
      "\n",
      "   EnergyRating_C   Predicted  \n",
      "0               1  299.670430  \n",
      "1               0  374.304568  \n",
      "2               0  419.294670  \n",
      "3               0  381.806217  \n",
      "4               1  405.718528  \n",
      "5               0  426.796319  \n",
      "6               0  471.786421  \n",
      "7               0  586.400763  \n",
      "8               1  569.611042  \n",
      "9               0  619.611042  \n"
     ]
    }
   ],
   "source": [
    "multiple_linreg_predictions = multiple_linreg.predict(X[features])\n",
    "\n",
    "print(\"\\nPredictions with multiple linear regression: \\n\")\n",
    "actual_vs_predicted_multiplelinreg = pd.concat([df, pd.DataFrame(multiple_linreg_predictions, columns=['Predicted'])], axis=1)\n",
    "print(actual_vs_predicted_multiplelinreg)"
   ]
  },
  {
   "cell_type": "code",
   "execution_count": 106,
   "metadata": {},
   "outputs": [
    {
     "name": "stdout",
     "output_type": "stream",
     "text": [
      "\n",
      "==============================================================================\n",
      "MAE:  11.361903365349338\n",
      "RMSE:  13.598640185098985\n",
      "R2:  0.9815303238648866\n"
     ]
    }
   ],
   "source": [
    "printMetrics(y, multiple_linreg_predictions)"
   ]
  },
  {
   "cell_type": "markdown",
   "metadata": {},
   "source": [
    "# Evaluation with train/test split"
   ]
  },
  {
   "cell_type": "code",
   "execution_count": 107,
   "metadata": {},
   "outputs": [
    {
     "name": "stdout",
     "output_type": "stream",
     "text": [
      "Training data:\n",
      "    Size  EnergyRating_B  EnergyRating_C  RentalPrice\n",
      "4   665               0               1          385\n",
      "1   550               0               0          380\n",
      "3   630               1               0          390\n",
      "6   770               1               0          480\n",
      "2   620               0               0          400\n",
      "7   880               0               0          600\n",
      "0   500               0               1          320\n",
      "\n",
      "Test data:\n",
      "    Size  EnergyRating_B  EnergyRating_C  RentalPrice\n",
      "9  1000               1               0          620\n",
      "5   700               1               0          410\n",
      "8   920               0               1          570\n"
     ]
    }
   ],
   "source": [
    "# Split the data into train and test sets\n",
    "# Take a third (random) data samples as test data, rest as training data\n",
    "# Note that this training set if very small and the model will not be very reliable due to this sample size problem.\n",
    "#X_train, X_test, y_train, y_test = train_test_split(X, y, test_size=0.3, random_state=0)\n",
    "X_train, X_test, y_train, y_test = train_test_split(X, y, test_size=0.3)\n",
    "\n",
    "print(\"Training data:\\n\", pd.concat([X_train, y_train], axis=1))\n",
    "print(\"\\nTest data:\\n\", pd.concat([X_test, y_test], axis=1))"
   ]
  },
  {
   "cell_type": "code",
   "execution_count": 108,
   "metadata": {},
   "outputs": [
    {
     "name": "stdout",
     "output_type": "stream",
     "text": [
      "Features and coeficients: [('Size', 0.6397595747851571), ('EnergyRating_B', -35.66265957975263), ('EnergyRating_C', -42.990909542496645)]\n"
     ]
    }
   ],
   "source": [
    "# Train on the training sample and test on the test sample.\n",
    "linreg = LinearRegression().fit(X_train, y_train)\n",
    "# Print the weights learned for each feature.\n",
    "#print(linreg_train.coef_)\n",
    "print(\"Features and coeficients:\", list(zip(features, linreg.coef_)))"
   ]
  },
  {
   "cell_type": "code",
   "execution_count": 109,
   "metadata": {},
   "outputs": [
    {
     "name": "stdout",
     "output_type": "stream",
     "text": [
      "Actual values of training:\n",
      " 4    385\n",
      "1    380\n",
      "3    390\n",
      "6    480\n",
      "2    400\n",
      "7    600\n",
      "0    320\n",
      "Name: RentalPrice, dtype: int64\n",
      "Predictions on training: [405.28016492 374.69872336 390.21682977 479.78317023 419.4818936\n",
      " 585.81938304 299.71983508]\n",
      "\n",
      "==============================================================================\n",
      "MAE:  11.42253950907274\n",
      "RMSE:  14.299859230533412\n",
      "R2:  0.9714250314369299\n"
     ]
    }
   ],
   "source": [
    "# Predicted price on training set\n",
    "train_predictions = linreg.predict(X_train)\n",
    "print(\"Actual values of training:\\n\", y_train)\n",
    "print(\"Predictions on training:\", train_predictions)\n",
    "printMetrics(y_train, train_predictions)\n",
    "\n"
   ]
  },
  {
   "cell_type": "code",
   "execution_count": 110,
   "metadata": {},
   "outputs": [
    {
     "name": "stdout",
     "output_type": "stream",
     "text": [
      "Actual values of test:\n",
      " 9    620\n",
      "5    410\n",
      "8    570\n",
      "Name: RentalPrice, dtype: int64\n",
      "Predictions on test: [626.92787244 435.         568.41885649]\n",
      "\n",
      "==============================================================================\n",
      "MAE:  11.169671981852218\n",
      "RMSE:  15.005503782306645\n",
      "R2:  0.9719323227998979\n"
     ]
    }
   ],
   "source": [
    "# Predicted price on test set\n",
    "test_predictions = linreg.predict(X_test)\n",
    "print(\"Actual values of test:\\n\", y_test)\n",
    "print(\"Predictions on test:\", test_predictions)\n",
    "printMetrics(y_test, test_predictions)"
   ]
  },
  {
   "cell_type": "markdown",
   "metadata": {},
   "source": [
    "# Evaluation with cross-validation"
   ]
  },
  {
   "cell_type": "code",
   "execution_count": 111,
   "metadata": {},
   "outputs": [
    {
     "data": {
      "text/plain": [
       "['accuracy',\n",
       " 'adjusted_mutual_info_score',\n",
       " 'adjusted_rand_score',\n",
       " 'average_precision',\n",
       " 'balanced_accuracy',\n",
       " 'brier_score_loss',\n",
       " 'completeness_score',\n",
       " 'explained_variance',\n",
       " 'f1',\n",
       " 'f1_macro',\n",
       " 'f1_micro',\n",
       " 'f1_samples',\n",
       " 'f1_weighted',\n",
       " 'fowlkes_mallows_score',\n",
       " 'homogeneity_score',\n",
       " 'mutual_info_score',\n",
       " 'neg_log_loss',\n",
       " 'neg_mean_absolute_error',\n",
       " 'neg_mean_squared_error',\n",
       " 'neg_mean_squared_log_error',\n",
       " 'neg_median_absolute_error',\n",
       " 'normalized_mutual_info_score',\n",
       " 'precision',\n",
       " 'precision_macro',\n",
       " 'precision_micro',\n",
       " 'precision_samples',\n",
       " 'precision_weighted',\n",
       " 'r2',\n",
       " 'recall',\n",
       " 'recall_macro',\n",
       " 'recall_micro',\n",
       " 'recall_samples',\n",
       " 'recall_weighted',\n",
       " 'roc_auc',\n",
       " 'v_measure_score']"
      ]
     },
     "execution_count": 111,
     "metadata": {},
     "output_type": "execute_result"
    }
   ],
   "source": [
    "sorted(metrics.SCORERS.keys())"
   ]
  },
  {
   "cell_type": "code",
   "execution_count": 114,
   "metadata": {},
   "outputs": [
    {
     "data": {
      "text/plain": [
       "array([31.66811733, 19.87021387, 27.60324484, 19.04539189,  1.4933022 ])"
      ]
     },
     "execution_count": 114,
     "metadata": {},
     "output_type": "execute_result"
    }
   ],
   "source": [
    "scores = -cross_val_score(LinearRegression(), X, y, scoring='neg_mean_absolute_error', cv=5)\n",
    "scores"
   ]
  },
  {
   "cell_type": "code",
   "execution_count": 115,
   "metadata": {},
   "outputs": [
    {
     "name": "stderr",
     "output_type": "stream",
     "text": [
      "/Users/georgianaifrim/anaconda3/envs/comp47350py37/lib/python3.7/site-packages/sklearn/utils/deprecation.py:125: FutureWarning: You are accessing a training score ('train_neg_mean_absolute_error'), which will not be available by default any more in 0.21. If you need training scores, please set return_train_score=True\n",
      "  warnings.warn(*warn_args, **warn_kwargs)\n",
      "/Users/georgianaifrim/anaconda3/envs/comp47350py37/lib/python3.7/site-packages/sklearn/utils/deprecation.py:125: FutureWarning: You are accessing a training score ('train_neg_mean_squared_error'), which will not be available by default any more in 0.21. If you need training scores, please set return_train_score=True\n",
      "  warnings.warn(*warn_args, **warn_kwargs)\n",
      "/Users/georgianaifrim/anaconda3/envs/comp47350py37/lib/python3.7/site-packages/sklearn/utils/deprecation.py:125: FutureWarning: You are accessing a training score ('train_r2'), which will not be available by default any more in 0.21. If you need training scores, please set return_train_score=True\n",
      "  warnings.warn(*warn_args, **warn_kwargs)\n"
     ]
    },
    {
     "data": {
      "text/plain": [
       "{'fit_time': array([0.00271511, 0.00192618, 0.00204802, 0.00309086, 0.00214481]),\n",
       " 'score_time': array([0.00452018, 0.00295997, 0.00322819, 0.00270915, 0.00251508]),\n",
       " 'test_neg_mean_absolute_error': array([-31.66811733, -19.87021387, -27.60324484, -19.04539189,\n",
       "         -1.4933022 ]),\n",
       " 'train_neg_mean_absolute_error': array([ -9.52606841,  -9.78634874,  -7.58251958, -12.23685506,\n",
       "        -14.1071813 ]),\n",
       " 'test_neg_mean_squared_error': array([-1178.62999792,  -479.35721708,  -778.03978181,  -430.78620284,\n",
       "           -2.23766757]),\n",
       " 'train_neg_mean_squared_error': array([-103.88197406, -150.12073129,  -99.74506663, -173.67073651,\n",
       "        -231.00856059]),\n",
       " 'test_r2': array([ -0.30958889, -18.17428868,  -3.9794546 ,   0.88033717,\n",
       "          0.99641973]),\n",
       " 'train_r2': array([0.98821145, 0.98679123, 0.99126958, 0.98149286, 0.96320192])}"
      ]
     },
     "execution_count": 115,
     "metadata": {},
     "output_type": "execute_result"
    }
   ],
   "source": [
    "metrics = ['neg_mean_absolute_error', 'neg_mean_squared_error', 'r2']\n",
    "scores = cross_validate(LinearRegression(), X, y, scoring=metrics, cv=5)\n",
    "scores"
   ]
  },
  {
   "cell_type": "code",
   "execution_count": 116,
   "metadata": {},
   "outputs": [
    {
     "data": {
      "text/plain": [
       "['fit_time',\n",
       " 'score_time',\n",
       " 'test_neg_mean_absolute_error',\n",
       " 'test_neg_mean_squared_error',\n",
       " 'test_r2',\n",
       " 'train_neg_mean_absolute_error',\n",
       " 'train_neg_mean_squared_error',\n",
       " 'train_r2']"
      ]
     },
     "execution_count": 116,
     "metadata": {},
     "output_type": "execute_result"
    }
   ],
   "source": [
    "sorted(scores.keys())"
   ]
  },
  {
   "cell_type": "code",
   "execution_count": null,
   "metadata": {},
   "outputs": [],
   "source": []
  },
  {
   "cell_type": "code",
   "execution_count": null,
   "metadata": {},
   "outputs": [],
   "source": []
  }
 ],
 "metadata": {
  "kernelspec": {
   "display_name": "Python 3",
   "language": "python",
   "name": "python3"
  },
  "language_info": {
   "codemirror_mode": {
    "name": "ipython",
    "version": 3
   },
   "file_extension": ".py",
   "mimetype": "text/x-python",
   "name": "python",
   "nbconvert_exporter": "python",
   "pygments_lexer": "ipython3",
   "version": "3.7.2"
  },
  "toc": {
   "base_numbering": 1,
   "nav_menu": {},
   "number_sections": true,
   "sideBar": true,
   "skip_h1_title": false,
   "title_cell": "Table of Contents",
   "title_sidebar": "Contents",
   "toc_cell": false,
   "toc_position": {},
   "toc_section_display": true,
   "toc_window_display": false
  }
 },
 "nbformat": 4,
 "nbformat_minor": 1
}
