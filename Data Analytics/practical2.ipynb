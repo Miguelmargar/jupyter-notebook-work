{
 "cells": [
  {
   "cell_type": "code",
   "execution_count": 40,
   "metadata": {},
   "outputs": [
    {
     "name": "stdout",
     "output_type": "stream",
     "text": [
      "b'%PDF-1.4\\r%\\xe2\\xe3\\xcf\\xd3\\r\\n1160 0 obj\\r<</Linearized 1/L 6803833/O 1162/E 400422/N 134/T 6780516/H [ 6016 4932]>'\n"
     ]
    }
   ],
   "source": [
    "import requests\n",
    "import nltk\n",
    "\n",
    "url = \"https://www.fiannafail.ie/download/An-Ireland-for-all-Fianna-FaCC81il-Manifesto.pdf\"\n",
    "\n",
    "fail = requests.get(url)\n",
    "\n",
    "#PDF is a binary format. Use request.content instead of request.text\n",
    "#Write binary content on your machine's disk in a file named 'thinkpython.pdf'\n",
    "with open(\"fail-manifest.pdf\", \"wb\") as pdffile:\n",
    "    # Look at the conent of the file\n",
    "    print(fail.content[:100])\n",
    "    \n",
    "    #Print the content of the request_object to a file named \"thinkpython.pdf\"\n",
    "    pdffile.write(fail.content)\n",
    "\n",
    "#Check that it downloaded the file to the current directory.\n",
    "#%ls"
   ]
  },
  {
   "cell_type": "code",
   "execution_count": 41,
   "metadata": {},
   "outputs": [
    {
     "name": "stdout",
     "output_type": "stream",
     "text": [
      "An Ireland for all.\r\n",
      "Social Housing Units, • retain mortgage interest relief to 2020, • create a special savings scheme to help first time buyers save for their deposit, • tackle the homelessness emergency,\r\n",
      "Support with the quality & cost of living\r\n",
      "We will: • reduce and eliminate USC for low and middle income workers up to €80,000, • abolish Irish water and water charges, • cut VAT on ESB and gas bills from 13.5% to 13%, • reduce the monthly Drug Payment Scheme threshold to €100 per month • in\n"
     ]
    },
    {
     "name": "stderr",
     "output_type": "stream",
     "text": [
      "'\"D:\\UCD\\Semester 2\\Data Analytics\\xpdf-tools-win-4.00\\bin64\"' is not recognized as an internal or external command,\n",
      "operable program or batch file.\n"
     ]
    }
   ],
   "source": [
    "# Extract the text from the pdf file.\n",
    "# Use the 'pdftotext' command line utility for your operating system, e.g., Unix, Max OS, Windows.\n",
    "# Google \"pdftotext install\" and install for your operating system.\n",
    "\n",
    "#Use 'pdftotext' to extract the text content from the pdf file to a text file with \n",
    "# the same name, but extension .txt\n",
    "# Can call pdftotext in the command line or directly from Jupyter Notebook.\n",
    "!\"D:\\UCD\\Semester 2\\Data Analytics\\xpdf-tools-win-4.00\\bin64\" -enc UTF-8 fail-manifest.pdf fail-manifest.txt\n",
    "\n",
    "#Read the text file with text extracted from the original PDF\n",
    "with open('fail-manifest.txt', 'rb') as f:\n",
    "    text_content = f.read().decode('UTF-8')\n",
    "\n",
    "print(text_content[:500]) "
   ]
  },
  {
   "cell_type": "code",
   "execution_count": 42,
   "metadata": {},
   "outputs": [
    {
     "name": "stdout",
     "output_type": "stream",
     "text": [
      "Number of sentences:  1766\n",
      "Number of words:  45526\n"
     ]
    }
   ],
   "source": [
    "#Example of Exploratory Analysis\n",
    "#Where in the text do given words occur? (visualisation)\n",
    "#What are the top-20 most frequent words in this book? (summarization)\n",
    "sentences = nltk.sent_tokenize(text_content)\n",
    "words = nltk.word_tokenize(text_content)\n",
    "#print(words[:10])\n",
    "print(\"Number of sentences: \", len(sentences))\n",
    "print(\"Number of words: \", len(words))"
   ]
  },
  {
   "cell_type": "code",
   "execution_count": null,
   "metadata": {},
   "outputs": [],
   "source": []
  }
 ],
 "metadata": {
  "kernelspec": {
   "display_name": "Python 3",
   "language": "python",
   "name": "python3"
  },
  "language_info": {
   "codemirror_mode": {
    "name": "ipython",
    "version": 3
   },
   "file_extension": ".py",
   "mimetype": "text/x-python",
   "name": "python",
   "nbconvert_exporter": "python",
   "pygments_lexer": "ipython3",
   "version": "3.7.2"
  }
 },
 "nbformat": 4,
 "nbformat_minor": 2
}
