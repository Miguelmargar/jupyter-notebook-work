{
 "cells": [
  {
   "cell_type": "markdown",
   "metadata": {},
   "source": [
    "# Linear Regression\n",
    "The purpose of this notebook is to practice training (also known as fitting), interpreting and evaluating linear regression predictive models. \n",
    "We will use Python packages: pandas, matplotlib and scikit-learn.\n",
    "Besides the material presented in this notebook, please also read this [notebook](http://www.dataschool.io/linear-regression-in-python/) that is very well written, contains many useful details and gives pointers to further reading. \n",
    "\n",
    "Training a linear regression model means estimating a set of weights (one weight per feature, plus an extra weight called the bias or the intercept) on a dataset called the training set. \n",
    "\n",
    "The model estimated is a linear model taking the form:\n",
    "\n",
    "$target\\_feature = w_0 + w_1 * feature_1 + w_2*feature_2 + ...+ w_n*feature_n $\n",
    "\n",
    "The learned model can be used to predict the target feature for new examples where we know the descriptive features, but not the target feature. This is called the test example or the test data. In this notebook we will see the difference between evaluating the model on the training data and measuring the model error (called in-sample error) versus evaluating the model on the test data and measuring that error (called out-of-sample error). It is recommended that we always evaluate our model on a second data sample that was not used during training. This way we avoid overfitting or memorising the training data."
   ]
  },
  {
   "cell_type": "markdown",
   "metadata": {},
   "source": [
    "## Reading data"
   ]
  },
  {
   "cell_type": "code",
   "execution_count": 302,
   "metadata": {},
   "outputs": [],
   "source": [
    "# Library Imports.\n",
    "import pandas as pd\n",
    "import matplotlib.pyplot as plt\n",
    "import numpy as np\n",
    "\n",
    "# Allows plots to appear directly in the notebook.\n",
    "%matplotlib inline\n",
    "\n",
    "from patsy import dmatrices\n",
    "from sklearn.linear_model import LinearRegression\n",
    "from sklearn.model_selection import train_test_split\n",
    "from sklearn import metrics\n",
    "from sklearn.model_selection import cross_validate"
   ]
  },
  {
   "cell_type": "code",
   "execution_count": 303,
   "metadata": {},
   "outputs": [
    {
     "data": {
      "text/html": [
       "<div>\n",
       "<style scoped>\n",
       "    .dataframe tbody tr th:only-of-type {\n",
       "        vertical-align: middle;\n",
       "    }\n",
       "\n",
       "    .dataframe tbody tr th {\n",
       "        vertical-align: top;\n",
       "    }\n",
       "\n",
       "    .dataframe thead th {\n",
       "        text-align: right;\n",
       "    }\n",
       "</style>\n",
       "<table border=\"1\" class=\"dataframe\">\n",
       "  <thead>\n",
       "    <tr style=\"text-align: right;\">\n",
       "      <th></th>\n",
       "      <th>ID</th>\n",
       "      <th>Size</th>\n",
       "      <th>Floor</th>\n",
       "      <th>BroadbandRate</th>\n",
       "      <th>EnergyRating</th>\n",
       "      <th>RentalPrice</th>\n",
       "    </tr>\n",
       "  </thead>\n",
       "  <tbody>\n",
       "    <tr>\n",
       "      <th>0</th>\n",
       "      <td>1</td>\n",
       "      <td>500</td>\n",
       "      <td>4</td>\n",
       "      <td>8</td>\n",
       "      <td>C</td>\n",
       "      <td>320</td>\n",
       "    </tr>\n",
       "    <tr>\n",
       "      <th>1</th>\n",
       "      <td>2</td>\n",
       "      <td>550</td>\n",
       "      <td>7</td>\n",
       "      <td>50</td>\n",
       "      <td>A</td>\n",
       "      <td>380</td>\n",
       "    </tr>\n",
       "    <tr>\n",
       "      <th>2</th>\n",
       "      <td>3</td>\n",
       "      <td>620</td>\n",
       "      <td>9</td>\n",
       "      <td>7</td>\n",
       "      <td>A</td>\n",
       "      <td>400</td>\n",
       "    </tr>\n",
       "    <tr>\n",
       "      <th>3</th>\n",
       "      <td>4</td>\n",
       "      <td>630</td>\n",
       "      <td>5</td>\n",
       "      <td>24</td>\n",
       "      <td>B</td>\n",
       "      <td>390</td>\n",
       "    </tr>\n",
       "    <tr>\n",
       "      <th>4</th>\n",
       "      <td>5</td>\n",
       "      <td>665</td>\n",
       "      <td>8</td>\n",
       "      <td>100</td>\n",
       "      <td>C</td>\n",
       "      <td>385</td>\n",
       "    </tr>\n",
       "    <tr>\n",
       "      <th>5</th>\n",
       "      <td>6</td>\n",
       "      <td>700</td>\n",
       "      <td>4</td>\n",
       "      <td>8</td>\n",
       "      <td>B</td>\n",
       "      <td>410</td>\n",
       "    </tr>\n",
       "    <tr>\n",
       "      <th>6</th>\n",
       "      <td>7</td>\n",
       "      <td>770</td>\n",
       "      <td>10</td>\n",
       "      <td>7</td>\n",
       "      <td>B</td>\n",
       "      <td>480</td>\n",
       "    </tr>\n",
       "    <tr>\n",
       "      <th>7</th>\n",
       "      <td>8</td>\n",
       "      <td>880</td>\n",
       "      <td>12</td>\n",
       "      <td>50</td>\n",
       "      <td>A</td>\n",
       "      <td>600</td>\n",
       "    </tr>\n",
       "    <tr>\n",
       "      <th>8</th>\n",
       "      <td>9</td>\n",
       "      <td>920</td>\n",
       "      <td>14</td>\n",
       "      <td>8</td>\n",
       "      <td>C</td>\n",
       "      <td>570</td>\n",
       "    </tr>\n",
       "    <tr>\n",
       "      <th>9</th>\n",
       "      <td>10</td>\n",
       "      <td>1000</td>\n",
       "      <td>9</td>\n",
       "      <td>24</td>\n",
       "      <td>B</td>\n",
       "      <td>620</td>\n",
       "    </tr>\n",
       "  </tbody>\n",
       "</table>\n",
       "</div>"
      ],
      "text/plain": [
       "   ID  Size  Floor  BroadbandRate EnergyRating  RentalPrice\n",
       "0   1   500      4              8            C          320\n",
       "1   2   550      7             50            A          380\n",
       "2   3   620      9              7            A          400\n",
       "3   4   630      5             24            B          390\n",
       "4   5   665      8            100            C          385\n",
       "5   6   700      4              8            B          410\n",
       "6   7   770     10              7            B          480\n",
       "7   8   880     12             50            A          600\n",
       "8   9   920     14              8            C          570\n",
       "9  10  1000      9             24            B          620"
      ]
     },
     "execution_count": 303,
     "metadata": {},
     "output_type": "execute_result"
    }
   ],
   "source": [
    "# Read a CSV dataset with 10 example offices into a dataframe.\n",
    "# The data is described by 5 features (4 descriptive features: Size, Floor, BroadbandRate, EnergyRating;\n",
    "# the target feature: RentalPrice).\n",
    "\n",
    "\n",
    "# Read csv file into a dataframe.\n",
    "df = pd.read_csv('Offices.csv')\n",
    "df.head(10)"
   ]
  },
  {
   "cell_type": "code",
   "execution_count": 304,
   "metadata": {},
   "outputs": [
    {
     "data": {
      "text/plain": [
       "455.5"
      ]
     },
     "execution_count": 304,
     "metadata": {},
     "output_type": "execute_result"
    }
   ],
   "source": [
    "# Print the average RentalPrice in our dataset.\n",
    "# We could use this as a very simple baseline prediction model.\n",
    "# A better prediction model should at least improve on this baseline model.\n",
    "df.RentalPrice.mean()"
   ]
  },
  {
   "cell_type": "code",
   "execution_count": 305,
   "metadata": {},
   "outputs": [
    {
     "data": {
      "text/plain": [
       "ID                int64\n",
       "Size              int64\n",
       "Floor             int64\n",
       "BroadbandRate     int64\n",
       "EnergyRating     object\n",
       "RentalPrice       int64\n",
       "dtype: object"
      ]
     },
     "execution_count": 305,
     "metadata": {},
     "output_type": "execute_result"
    }
   ],
   "source": [
    "# Print the feature types in our dataset.\n",
    "df.dtypes"
   ]
  },
  {
   "cell_type": "markdown",
   "metadata": {},
   "source": [
    "### Preparing the data"
   ]
  },
  {
   "cell_type": "code",
   "execution_count": 306,
   "metadata": {},
   "outputs": [
    {
     "name": "stdout",
     "output_type": "stream",
     "text": [
      "   ID  Size  Floor  BroadbandRate EnergyRating  RentalPrice\n",
      "0   1   500      4              8            C          320\n",
      "1   2   550      7             50            A          380\n",
      "2   3   620      9              7            A          400\n",
      "3   4   630      5             24            B          390\n",
      "4   5   665      8            100            C          385\n",
      "5   6   700      4              8            B          410\n",
      "6   7   770     10              7            B          480\n",
      "7   8   880     12             50            A          600\n",
      "8   9   920     14              8            C          570\n",
      "9  10  1000      9             24            B          620\n",
      "\n",
      "Descriptive features in X:\n",
      "    Size  Floor  BroadbandRate\n",
      "0   500      4              8\n",
      "1   550      7             50\n",
      "2   620      9              7\n",
      "3   630      5             24\n",
      "4   665      8            100\n",
      "5   700      4              8\n",
      "6   770     10              7\n",
      "7   880     12             50\n",
      "8   920     14              8\n",
      "9  1000      9             24\n",
      "\n",
      "Target feature in y:\n",
      " 0    320\n",
      "1    380\n",
      "2    400\n",
      "3    390\n",
      "4    385\n",
      "5    410\n",
      "6    480\n",
      "7    600\n",
      "8    570\n",
      "9    620\n",
      "Name: RentalPrice, dtype: int64\n"
     ]
    }
   ],
   "source": [
    "# Prepare the descriptive features\n",
    "print(df.head(10))\n",
    "#cont_features = ['Size']\n",
    "cont_features = ['Size', 'Floor', 'BroadbandRate']\n",
    "\n",
    "X = df[cont_features]\n",
    "y = df.RentalPrice\n",
    "\n",
    "print(\"\\nDescriptive features in X:\\n\", X)\n",
    "print(\"\\nTarget feature in y:\\n\", y)"
   ]
  },
  {
   "cell_type": "markdown",
   "metadata": {},
   "source": [
    "## Multiple linear regression (using more than one feature)\n",
    "### Training the model"
   ]
  },
  {
   "cell_type": "code",
   "execution_count": 307,
   "metadata": {},
   "outputs": [
    {
     "name": "stdout",
     "output_type": "stream",
     "text": [
      "Features: \n",
      " ['Size', 'Floor', 'BroadbandRate']\n",
      "Coeficients: \n",
      " [ 0.54873985  4.96354677 -0.06209515]\n",
      "\n",
      "Intercept: \n",
      " 19.561558897449345\n"
     ]
    }
   ],
   "source": [
    "# Use more features for training\n",
    "# Train aka fit, a model using all continuous features.\n",
    "\n",
    "multiple_linreg = LinearRegression().fit(X[cont_features], y)\n",
    "\n",
    "# Print the weights learned for each feature.\n",
    "print(\"Features: \\n\", cont_features)\n",
    "print(\"Coeficients: \\n\", multiple_linreg.coef_)\n",
    "print(\"\\nIntercept: \\n\", multiple_linreg.intercept_)"
   ]
  },
  {
   "cell_type": "markdown",
   "metadata": {},
   "source": [
    "### Testing the model\n",
    "Using the trained model to predict the target feature RentalPrice, given the descriptive features Size, Floor  BroadbandRate."
   ]
  },
  {
   "cell_type": "code",
   "execution_count": 308,
   "metadata": {},
   "outputs": [
    {
     "name": "stdout",
     "output_type": "stream",
     "text": [
      "\n",
      "Predictions with multiple linear regression: \n",
      "\n",
      "   RentalPrice   Predicted\n",
      "0          320  313.288908\n",
      "1          380  353.008544\n",
      "2          400  404.017519\n",
      "3          390  388.595112\n",
      "4          385  417.972416\n",
      "5          410  423.036877\n",
      "6          480  491.292042\n",
      "7          600  558.910427\n",
      "8          570  593.395111\n",
      "9          620  611.483043\n"
     ]
    }
   ],
   "source": [
    "multiple_linreg_predictions = multiple_linreg.predict(X[cont_features])\n",
    "\n",
    "print(\"\\nPredictions with multiple linear regression: \\n\")\n",
    "actual_vs_predicted_multiplelinreg = pd.concat([y, pd.DataFrame(multiple_linreg_predictions, columns=['Predicted'])], axis=1)\n",
    "print(actual_vs_predicted_multiplelinreg)"
   ]
  },
  {
   "cell_type": "code",
   "execution_count": 309,
   "metadata": {},
   "outputs": [
    {
     "name": "stdout",
     "output_type": "stream",
     "text": [
      "Actual - Predicted:\n",
      " 0     6.711092\n",
      "1    26.991456\n",
      "2    -4.017519\n",
      "3     1.404888\n",
      "4   -32.972416\n",
      "5   -13.036877\n",
      "6   -11.292042\n",
      "7    41.089573\n",
      "8   -23.395111\n",
      "9     8.516957\n",
      "Name: RentalPrice, dtype: float64\n",
      "\n",
      "(Actual - Predicted) squared:\n",
      " 0      45.038756\n",
      "1     728.538680\n",
      "2      16.140455\n",
      "3       1.973709\n",
      "4    1087.180212\n",
      "5     169.960169\n",
      "6     127.510219\n",
      "7    1688.352971\n",
      "8     547.331226\n",
      "9      72.538563\n",
      "Name: RentalPrice, dtype: float64\n"
     ]
    }
   ],
   "source": [
    "#Pair the actual and the predicted values\n",
    "#This can be done directly with sklearn functions, but below is a manual example to understand how it works\n",
    "prediction_errors = y - multiple_linreg_predictions\n",
    "print(\"Actual - Predicted:\\n\", prediction_errors)\n",
    "print(\"\\n(Actual - Predicted) squared:\\n\", prediction_errors**2)"
   ]
  },
  {
   "cell_type": "code",
   "execution_count": 310,
   "metadata": {},
   "outputs": [
    {
     "name": "stdout",
     "output_type": "stream",
     "text": [
      "\n",
      "Mean Squared Error:\n",
      " 448.4564959646251\n",
      "\n",
      "Root Mean Squared Error:\n",
      " 21.1767914464072\n"
     ]
    }
   ],
   "source": [
    "# Print the Mean Squared Error of the model on the training set\n",
    "mse = (prediction_errors** 2).mean()\n",
    "rmse = ((prediction_errors** 2).mean())**0.5\n",
    "\n",
    "print(\"\\nMean Squared Error:\\n\", mse)\n",
    "print(\"\\nRoot Mean Squared Error:\\n\", rmse)"
   ]
  },
  {
   "cell_type": "code",
   "execution_count": 311,
   "metadata": {},
   "outputs": [
    {
     "name": "stdout",
     "output_type": "stream",
     "text": [
      "|Actual - Predicted|:\n",
      " 0     6.711092\n",
      "1    26.991456\n",
      "2     4.017519\n",
      "3     1.404888\n",
      "4    32.972416\n",
      "5    13.036877\n",
      "6    11.292042\n",
      "7    41.089573\n",
      "8    23.395111\n",
      "9     8.516957\n",
      "Name: RentalPrice, dtype: float64\n"
     ]
    }
   ],
   "source": [
    "print(\"|Actual - Predicted|:\\n\", abs(prediction_errors))"
   ]
  },
  {
   "cell_type": "code",
   "execution_count": 312,
   "metadata": {},
   "outputs": [
    {
     "name": "stdout",
     "output_type": "stream",
     "text": [
      "\n",
      "Mean Absolute Error:\n",
      " 16.942793036576184\n"
     ]
    }
   ],
   "source": [
    "# Print the Mean Absolute Error of the model on the training set\n",
    "mae = abs(prediction_errors).mean()\n",
    "print(\"\\nMean Absolute Error:\\n\", mae)"
   ]
  },
  {
   "cell_type": "code",
   "execution_count": 313,
   "metadata": {},
   "outputs": [],
   "source": [
    "#This function is used repeatedly to compute all metrics\n",
    "def printMetrics(testActualVal, predictions):\n",
    "    #classification evaluation measures\n",
    "    print('\\n==============================================================================')\n",
    "    print(\"MAE: \", metrics.mean_absolute_error(testActualVal, predictions))\n",
    "    #print(\"MSE: \", metrics.mean_squared_error(testActualVal, predictions))\n",
    "    print(\"RMSE: \", metrics.mean_squared_error(testActualVal, predictions)**0.5)\n",
    "    print(\"R2: \", metrics.r2_score(testActualVal, predictions))\n",
    "        "
   ]
  },
  {
   "cell_type": "code",
   "execution_count": 314,
   "metadata": {},
   "outputs": [
    {
     "name": "stdout",
     "output_type": "stream",
     "text": [
      "\n",
      "==============================================================================\n",
      "MAE:  16.942793036576184\n",
      "RMSE:  21.1767914464072\n",
      "R2:  0.9552092191101276\n"
     ]
    }
   ],
   "source": [
    "printMetrics(y, multiple_linreg_predictions)"
   ]
  },
  {
   "cell_type": "markdown",
   "metadata": {},
   "source": [
    "# Training with continuous and categorical features"
   ]
  },
  {
   "cell_type": "code",
   "execution_count": 315,
   "metadata": {},
   "outputs": [
    {
     "name": "stdout",
     "output_type": "stream",
     "text": [
      "EnergyRatingDummies:    EnergyRating_B  EnergyRating_C\n",
      "0               0               1\n",
      "1               0               0\n",
      "2               0               0\n",
      "3               1               0\n",
      "4               0               1\n",
      "5               1               0\n",
      "6               1               0\n",
      "7               0               0\n",
      "8               0               1\n",
      "9               1               0\n",
      "\n",
      "Cont features:  ['Size', 'Floor', 'BroadbandRate']\n",
      "Categ features:  ['EnergyRating_B', 'EnergyRating_C']\n",
      "Features:  ['Size', 'Floor', 'BroadbandRate', 'EnergyRating_B', 'EnergyRating_C']\n"
     ]
    }
   ],
   "source": [
    "# Use more features for training\n",
    "# Train aka fit, a model using all continuous and categorical features.\n",
    "EnergyRating_dummies = pd.get_dummies(df['EnergyRating'], prefix='EnergyRating', drop_first=True)\n",
    "print(\"EnergyRatingDummies:\", EnergyRating_dummies)\n",
    "\n",
    "categ_features = EnergyRating_dummies.columns.values.tolist()\n",
    "\n",
    "features = cont_features + categ_features\n",
    "print(\"\\nCont features: \", cont_features)\n",
    "print(\"Categ features: \", categ_features)\n",
    "print(\"Features: \", features)"
   ]
  },
  {
   "cell_type": "code",
   "execution_count": 316,
   "metadata": {},
   "outputs": [
    {
     "name": "stdout",
     "output_type": "stream",
     "text": [
      "   ID  Size  Floor  BroadbandRate EnergyRating  RentalPrice  EnergyRating_B  \\\n",
      "0   1   500      4              8            C          320               0   \n",
      "1   2   550      7             50            A          380               0   \n",
      "2   3   620      9              7            A          400               0   \n",
      "3   4   630      5             24            B          390               1   \n",
      "4   5   665      8            100            C          385               0   \n",
      "5   6   700      4              8            B          410               1   \n",
      "6   7   770     10              7            B          480               1   \n",
      "7   8   880     12             50            A          600               0   \n",
      "8   9   920     14              8            C          570               0   \n",
      "9  10  1000      9             24            B          620               1   \n",
      "\n",
      "   EnergyRating_C  \n",
      "0               1  \n",
      "1               0  \n",
      "2               0  \n",
      "3               0  \n",
      "4               1  \n",
      "5               0  \n",
      "6               0  \n",
      "7               0  \n",
      "8               1  \n",
      "9               0  \n",
      "   ID  Size  Floor  BroadbandRate  RentalPrice  EnergyRating_B  EnergyRating_C\n",
      "0   1   500      4              8          320               0               1\n",
      "1   2   550      7             50          380               0               0\n",
      "2   3   620      9              7          400               0               0\n",
      "3   4   630      5             24          390               1               0\n",
      "4   5   665      8            100          385               0               1\n",
      "5   6   700      4              8          410               1               0\n",
      "6   7   770     10              7          480               1               0\n",
      "7   8   880     12             50          600               0               0\n",
      "8   9   920     14              8          570               0               1\n",
      "9  10  1000      9             24          620               1               0\n"
     ]
    }
   ],
   "source": [
    "df_all = pd.concat([df, EnergyRating_dummies], axis=1)\n",
    "print(df_all)\n",
    "\n",
    "df_all = df_all.drop('EnergyRating', axis = 1)\n",
    "print(df_all)"
   ]
  },
  {
   "cell_type": "code",
   "execution_count": 317,
   "metadata": {},
   "outputs": [
    {
     "data": {
      "text/html": [
       "<div>\n",
       "<style scoped>\n",
       "    .dataframe tbody tr th:only-of-type {\n",
       "        vertical-align: middle;\n",
       "    }\n",
       "\n",
       "    .dataframe tbody tr th {\n",
       "        vertical-align: top;\n",
       "    }\n",
       "\n",
       "    .dataframe thead th {\n",
       "        text-align: right;\n",
       "    }\n",
       "</style>\n",
       "<table border=\"1\" class=\"dataframe\">\n",
       "  <thead>\n",
       "    <tr style=\"text-align: right;\">\n",
       "      <th></th>\n",
       "      <th>ID</th>\n",
       "      <th>Size</th>\n",
       "      <th>Floor</th>\n",
       "      <th>BroadbandRate</th>\n",
       "      <th>RentalPrice</th>\n",
       "      <th>EnergyRating_B</th>\n",
       "      <th>EnergyRating_C</th>\n",
       "    </tr>\n",
       "  </thead>\n",
       "  <tbody>\n",
       "    <tr>\n",
       "      <th>0</th>\n",
       "      <td>1</td>\n",
       "      <td>500</td>\n",
       "      <td>4</td>\n",
       "      <td>8</td>\n",
       "      <td>320</td>\n",
       "      <td>0</td>\n",
       "      <td>1</td>\n",
       "    </tr>\n",
       "    <tr>\n",
       "      <th>1</th>\n",
       "      <td>2</td>\n",
       "      <td>550</td>\n",
       "      <td>7</td>\n",
       "      <td>50</td>\n",
       "      <td>380</td>\n",
       "      <td>0</td>\n",
       "      <td>0</td>\n",
       "    </tr>\n",
       "    <tr>\n",
       "      <th>2</th>\n",
       "      <td>3</td>\n",
       "      <td>620</td>\n",
       "      <td>9</td>\n",
       "      <td>7</td>\n",
       "      <td>400</td>\n",
       "      <td>0</td>\n",
       "      <td>0</td>\n",
       "    </tr>\n",
       "    <tr>\n",
       "      <th>3</th>\n",
       "      <td>4</td>\n",
       "      <td>630</td>\n",
       "      <td>5</td>\n",
       "      <td>24</td>\n",
       "      <td>390</td>\n",
       "      <td>1</td>\n",
       "      <td>0</td>\n",
       "    </tr>\n",
       "    <tr>\n",
       "      <th>4</th>\n",
       "      <td>5</td>\n",
       "      <td>665</td>\n",
       "      <td>8</td>\n",
       "      <td>100</td>\n",
       "      <td>385</td>\n",
       "      <td>0</td>\n",
       "      <td>1</td>\n",
       "    </tr>\n",
       "    <tr>\n",
       "      <th>5</th>\n",
       "      <td>6</td>\n",
       "      <td>700</td>\n",
       "      <td>4</td>\n",
       "      <td>8</td>\n",
       "      <td>410</td>\n",
       "      <td>1</td>\n",
       "      <td>0</td>\n",
       "    </tr>\n",
       "    <tr>\n",
       "      <th>6</th>\n",
       "      <td>7</td>\n",
       "      <td>770</td>\n",
       "      <td>10</td>\n",
       "      <td>7</td>\n",
       "      <td>480</td>\n",
       "      <td>1</td>\n",
       "      <td>0</td>\n",
       "    </tr>\n",
       "    <tr>\n",
       "      <th>7</th>\n",
       "      <td>8</td>\n",
       "      <td>880</td>\n",
       "      <td>12</td>\n",
       "      <td>50</td>\n",
       "      <td>600</td>\n",
       "      <td>0</td>\n",
       "      <td>0</td>\n",
       "    </tr>\n",
       "    <tr>\n",
       "      <th>8</th>\n",
       "      <td>9</td>\n",
       "      <td>920</td>\n",
       "      <td>14</td>\n",
       "      <td>8</td>\n",
       "      <td>570</td>\n",
       "      <td>0</td>\n",
       "      <td>1</td>\n",
       "    </tr>\n",
       "    <tr>\n",
       "      <th>9</th>\n",
       "      <td>10</td>\n",
       "      <td>1000</td>\n",
       "      <td>9</td>\n",
       "      <td>24</td>\n",
       "      <td>620</td>\n",
       "      <td>1</td>\n",
       "      <td>0</td>\n",
       "    </tr>\n",
       "  </tbody>\n",
       "</table>\n",
       "</div>"
      ],
      "text/plain": [
       "   ID  Size  Floor  BroadbandRate  RentalPrice  EnergyRating_B  EnergyRating_C\n",
       "0   1   500      4              8          320               0               1\n",
       "1   2   550      7             50          380               0               0\n",
       "2   3   620      9              7          400               0               0\n",
       "3   4   630      5             24          390               1               0\n",
       "4   5   665      8            100          385               0               1\n",
       "5   6   700      4              8          410               1               0\n",
       "6   7   770     10              7          480               1               0\n",
       "7   8   880     12             50          600               0               0\n",
       "8   9   920     14              8          570               0               1\n",
       "9  10  1000      9             24          620               1               0"
      ]
     },
     "execution_count": 317,
     "metadata": {},
     "output_type": "execute_result"
    }
   ],
   "source": [
    "#We can also do this directly for all categorical features\n",
    "df = pd.get_dummies(df, drop_first=True)\n",
    "df"
   ]
  },
  {
   "cell_type": "code",
   "execution_count": 318,
   "metadata": {},
   "outputs": [
    {
     "name": "stdout",
     "output_type": "stream",
     "text": [
      "\n",
      "Descriptive features in X:\n",
      "    Size  Floor  BroadbandRate  EnergyRating_B  EnergyRating_C\n",
      "0   500      4              8               0               1\n",
      "1   550      7             50               0               0\n",
      "2   620      9              7               0               0\n",
      "3   630      5             24               1               0\n",
      "4   665      8            100               0               1\n",
      "5   700      4              8               1               0\n",
      "6   770     10              7               1               0\n",
      "7   880     12             50               0               0\n",
      "8   920     14              8               0               1\n",
      "9  1000      9             24               1               0\n",
      "\n",
      "Target feature in y:\n",
      " 0    320\n",
      "1    380\n",
      "2    400\n",
      "3    390\n",
      "4    385\n",
      "5    410\n",
      "6    480\n",
      "7    600\n",
      "8    570\n",
      "9    620\n",
      "Name: RentalPrice, dtype: int64\n"
     ]
    }
   ],
   "source": [
    "X = df_all[features]\n",
    "y = df_all.RentalPrice\n",
    "\n",
    "print(\"\\nDescriptive features in X:\\n\", X)\n",
    "print(\"\\nTarget feature in y:\\n\", y)"
   ]
  },
  {
   "cell_type": "code",
   "execution_count": 319,
   "metadata": {},
   "outputs": [
    {
     "name": "stdout",
     "output_type": "stream",
     "text": [
      "\n",
      "Intercept: \n",
      " 25.08094730527324\n",
      "Features and coeficients: [('Size', 0.6431537548899605), ('Floor', 0.016720058467198474), ('BroadbandRate', -0.13248786053570333), ('EnergyRating_B', -46.555463950825725), ('EnergyRating_C', -42.094850186464285)]\n"
     ]
    }
   ],
   "source": [
    "# Use more features for training\n",
    "# Train aka fit, a model using all continuous and categorical features.\n",
    "\n",
    "multiple_linreg = LinearRegression().fit(X, y)\n",
    "\n",
    "# Print the weights learned for each feature.\n",
    "#print(\"Features: \\n\", features)\n",
    "#print(\"Coeficients: \\n\", multiple_linreg.coef_)\n",
    "print(\"\\nIntercept: \\n\", multiple_linreg.intercept_)\n",
    "print(\"Features and coeficients:\", list(zip(features, multiple_linreg.coef_)))"
   ]
  },
  {
   "cell_type": "code",
   "execution_count": 320,
   "metadata": {},
   "outputs": [
    {
     "name": "stdout",
     "output_type": "stream",
     "text": [
      "\n",
      "Predictions with multiple linear regression: \n",
      "\n",
      "   ID  Size  Floor  BroadbandRate  RentalPrice  EnergyRating_B  \\\n",
      "0   1   500      4              8          320               0   \n",
      "1   2   550      7             50          380               0   \n",
      "2   3   620      9              7          400               0   \n",
      "3   4   630      5             24          390               1   \n",
      "4   5   665      8            100          385               0   \n",
      "5   6   700      4              8          410               1   \n",
      "6   7   770     10              7          480               1   \n",
      "7   8   880     12             50          600               0   \n",
      "8   9   920     14              8          570               0   \n",
      "9  10  1000      9             24          620               1   \n",
      "\n",
      "   EnergyRating_C   Predicted  \n",
      "0               1  303.569952  \n",
      "1               0  372.308160  \n",
      "2               0  423.059341  \n",
      "3               0  380.616241  \n",
      "4               1  397.568319  \n",
      "5               0  427.740089  \n",
      "6               0  472.993660  \n",
      "7               0  584.632499  \n",
      "8               1  573.861730  \n",
      "9               0  618.650010  \n"
     ]
    }
   ],
   "source": [
    "multiple_linreg_predictions = multiple_linreg.predict(X[features])\n",
    "\n",
    "print(\"\\nPredictions with multiple linear regression: \\n\")\n",
    "actual_vs_predicted_multiplelinreg = pd.concat([df, pd.DataFrame(multiple_linreg_predictions, columns=['Predicted'])], axis=1)\n",
    "print(actual_vs_predicted_multiplelinreg)"
   ]
  },
  {
   "cell_type": "code",
   "execution_count": 321,
   "metadata": {},
   "outputs": [
    {
     "name": "stdout",
     "output_type": "stream",
     "text": [
      "\n",
      "==============================================================================\n",
      "MAE:  11.445895610626872\n",
      "RMSE:  13.128429922471321\n",
      "R2:  0.9827855205144458\n"
     ]
    }
   ],
   "source": [
    "printMetrics(y, multiple_linreg_predictions)"
   ]
  },
  {
   "cell_type": "markdown",
   "metadata": {},
   "source": [
    "# Evaluation with train/test split"
   ]
  },
  {
   "cell_type": "code",
   "execution_count": 322,
   "metadata": {},
   "outputs": [
    {
     "name": "stdout",
     "output_type": "stream",
     "text": [
      "Training data:\n",
      "    Size  Floor  BroadbandRate  EnergyRating_B  EnergyRating_C  RentalPrice\n",
      "4   665      8            100               0               1          385\n",
      "7   880     12             50               0               0          600\n",
      "8   920     14              8               0               1          570\n",
      "0   500      4              8               0               1          320\n",
      "5   700      4              8               1               0          410\n",
      "1   550      7             50               0               0          380\n",
      "3   630      5             24               1               0          390\n",
      "\n",
      "Test data:\n",
      "    Size  Floor  BroadbandRate  EnergyRating_B  EnergyRating_C  RentalPrice\n",
      "2   620      9              7               0               0          400\n",
      "9  1000      9             24               1               0          620\n",
      "6   770     10              7               1               0          480\n"
     ]
    }
   ],
   "source": [
    "# Split the data into train and test sets\n",
    "# Take a third (random) data samples as test data, rest as training data\n",
    "# Note that this training set if very small and the model will not be very reliable due to this sample size problem.\n",
    "#X_train, X_test, y_train, y_test = train_test_split(X, y, test_size=0.3, random_state=0)\n",
    "X_train, X_test, y_train, y_test = train_test_split(X, y, test_size=0.3)\n",
    "\n",
    "print(\"Training data:\\n\", pd.concat([X_train, y_train], axis=1))\n",
    "print(\"\\nTest data:\\n\", pd.concat([X_test, y_test], axis=1))"
   ]
  },
  {
   "cell_type": "code",
   "execution_count": 323,
   "metadata": {},
   "outputs": [
    {
     "name": "stdout",
     "output_type": "stream",
     "text": [
      "Features and coeficients: [('Size', 0.5661564996424642), ('Floor', 2.5121997916397354), ('BroadbandRate', -0.3164931433051256), ('EnergyRating_B', -59.89194293205312), ('EnergyRating_C', -55.17029247157595)]\n"
     ]
    }
   ],
   "source": [
    "# Train on the training sample and test on the test sample.\n",
    "linreg = LinearRegression().fit(X_train, y_train)\n",
    "# Print the weights learned for each feature.\n",
    "#print(linreg_train.coef_)\n",
    "print(\"Features and coeficients:\", list(zip(features, linreg.coef_)))"
   ]
  },
  {
   "cell_type": "code",
   "execution_count": 324,
   "metadata": {},
   "outputs": [
    {
     "name": "stdout",
     "output_type": "stream",
     "text": [
      "Actual values of training:\n",
      " 4    385\n",
      "7    600\n",
      "8    570\n",
      "0    320\n",
      "5    410\n",
      "1    380\n",
      "3    390\n",
      "Name: RentalPrice, dtype: int64\n",
      "Predictions on training: [386.92892569 589.69632192 575.48940104 312.58167327 421.09132274\n",
      " 390.30367808 378.90867726]\n",
      "\n",
      "==============================================================================\n",
      "MAE:  8.23237929940294\n",
      "RMSE:  8.84188323226076\n",
      "R2:  0.9918119780793977\n"
     ]
    }
   ],
   "source": [
    "# Predicted price on training set\n",
    "train_predictions = linreg.predict(X_train)\n",
    "print(\"Actual values of training:\\n\", y_train)\n",
    "print(\"Predictions on training:\", train_predictions)\n",
    "printMetrics(y_train, train_predictions)\n",
    "\n"
   ]
  },
  {
   "cell_type": "code",
   "execution_count": 325,
   "metadata": {},
   "outputs": [
    {
     "name": "stdout",
     "output_type": "stream",
     "text": [
      "Actual values of test:\n",
      " 2    400\n",
      "9    620\n",
      "6    480\n",
      "Name: RentalPrice, dtype: int64\n",
      "Predictions on test: [448.5682378  598.4353813  476.11196961]\n",
      "\n",
      "==============================================================================\n",
      "MAE:  24.673628965960273\n",
      "RMSE:  30.76265746652414\n",
      "R2:  0.8855232547093517\n"
     ]
    }
   ],
   "source": [
    "# Predicted price on test set\n",
    "test_predictions = linreg.predict(X_test)\n",
    "print(\"Actual values of test:\\n\", y_test)\n",
    "print(\"Predictions on test:\", test_predictions)\n",
    "printMetrics(y_test, test_predictions)"
   ]
  },
  {
   "cell_type": "markdown",
   "metadata": {},
   "source": [
    "# Evaluation with cross-validation"
   ]
  },
  {
   "cell_type": "code",
   "execution_count": 326,
   "metadata": {},
   "outputs": [
    {
     "data": {
      "text/plain": [
       "['accuracy',\n",
       " 'adjusted_mutual_info_score',\n",
       " 'adjusted_rand_score',\n",
       " 'average_precision',\n",
       " 'balanced_accuracy',\n",
       " 'brier_score_loss',\n",
       " 'completeness_score',\n",
       " 'explained_variance',\n",
       " 'f1',\n",
       " 'f1_macro',\n",
       " 'f1_micro',\n",
       " 'f1_samples',\n",
       " 'f1_weighted',\n",
       " 'fowlkes_mallows_score',\n",
       " 'homogeneity_score',\n",
       " 'mutual_info_score',\n",
       " 'neg_log_loss',\n",
       " 'neg_mean_absolute_error',\n",
       " 'neg_mean_squared_error',\n",
       " 'neg_mean_squared_log_error',\n",
       " 'neg_median_absolute_error',\n",
       " 'normalized_mutual_info_score',\n",
       " 'precision',\n",
       " 'precision_macro',\n",
       " 'precision_micro',\n",
       " 'precision_samples',\n",
       " 'precision_weighted',\n",
       " 'r2',\n",
       " 'recall',\n",
       " 'recall_macro',\n",
       " 'recall_micro',\n",
       " 'recall_samples',\n",
       " 'recall_weighted',\n",
       " 'roc_auc',\n",
       " 'v_measure_score']"
      ]
     },
     "execution_count": 326,
     "metadata": {},
     "output_type": "execute_result"
    }
   ],
   "source": [
    "sorted(metrics.SCORERS.keys())"
   ]
  },
  {
   "cell_type": "code",
   "execution_count": 327,
   "metadata": {},
   "outputs": [
    {
     "data": {
      "text/plain": [
       "array([43.46049301, 28.52278234, 53.27445054, 21.51730931,  8.2908062 ])"
      ]
     },
     "execution_count": 327,
     "metadata": {},
     "output_type": "execute_result"
    }
   ],
   "source": [
    "scores = -cross_val_score(LinearRegression(), X, y, scoring='neg_mean_absolute_error', cv=5)\n",
    "scores"
   ]
  },
  {
   "cell_type": "code",
   "execution_count": 328,
   "metadata": {},
   "outputs": [
    {
     "name": "stderr",
     "output_type": "stream",
     "text": [
      "/Users/georgianaifrim/anaconda3/envs/comp47350py37/lib/python3.7/site-packages/sklearn/utils/deprecation.py:125: FutureWarning: You are accessing a training score ('train_neg_mean_absolute_error'), which will not be available by default any more in 0.21. If you need training scores, please set return_train_score=True\n",
      "  warnings.warn(*warn_args, **warn_kwargs)\n",
      "/Users/georgianaifrim/anaconda3/envs/comp47350py37/lib/python3.7/site-packages/sklearn/utils/deprecation.py:125: FutureWarning: You are accessing a training score ('train_neg_mean_squared_error'), which will not be available by default any more in 0.21. If you need training scores, please set return_train_score=True\n",
      "  warnings.warn(*warn_args, **warn_kwargs)\n",
      "/Users/georgianaifrim/anaconda3/envs/comp47350py37/lib/python3.7/site-packages/sklearn/utils/deprecation.py:125: FutureWarning: You are accessing a training score ('train_r2'), which will not be available by default any more in 0.21. If you need training scores, please set return_train_score=True\n",
      "  warnings.warn(*warn_args, **warn_kwargs)\n"
     ]
    },
    {
     "data": {
      "text/plain": [
       "{'fit_time': array([0.00531697, 0.00216484, 0.00251102, 0.00286531, 0.00175118]),\n",
       " 'score_time': array([0.00350809, 0.002635  , 0.00352192, 0.00241876, 0.0023067 ]),\n",
       " 'test_neg_mean_absolute_error': array([-43.46049301, -28.52278234, -53.27445054, -21.51730931,\n",
       "         -8.2908062 ]),\n",
       " 'train_neg_mean_absolute_error': array([ -6.81074616,  -7.61789661,  -5.77715676, -11.0244974 ,\n",
       "        -13.38404809]),\n",
       " 'test_neg_mean_squared_error': array([-2488.01107511, -1034.8429953 , -4195.344399  ,  -551.70794832,\n",
       "         -131.38455052]),\n",
       " 'train_neg_mean_squared_error': array([ -57.66367568,  -74.34399653,  -37.42755059, -145.42249629,\n",
       "        -207.68520786]),\n",
       " 'test_r2': array([ -1.76445675, -40.39371981, -25.85020415,   0.84674779,\n",
       "          0.78978472]),\n",
       " 'train_r2': array([0.99345631, 0.99345865, 0.99672407, 0.98450312, 0.96691717])}"
      ]
     },
     "execution_count": 328,
     "metadata": {},
     "output_type": "execute_result"
    }
   ],
   "source": [
    "metrics = ['neg_mean_absolute_error', 'neg_mean_squared_error', 'r2']\n",
    "scores = cross_validate(LinearRegression(), X, y, scoring=metrics, cv=5)\n",
    "scores"
   ]
  },
  {
   "cell_type": "code",
   "execution_count": 329,
   "metadata": {},
   "outputs": [
    {
     "data": {
      "text/plain": [
       "['fit_time',\n",
       " 'score_time',\n",
       " 'test_neg_mean_absolute_error',\n",
       " 'test_neg_mean_squared_error',\n",
       " 'test_r2',\n",
       " 'train_neg_mean_absolute_error',\n",
       " 'train_neg_mean_squared_error',\n",
       " 'train_r2']"
      ]
     },
     "execution_count": 329,
     "metadata": {},
     "output_type": "execute_result"
    }
   ],
   "source": [
    "sorted(scores.keys())"
   ]
  },
  {
   "cell_type": "code",
   "execution_count": null,
   "metadata": {},
   "outputs": [],
   "source": []
  }
 ],
 "metadata": {
  "kernelspec": {
   "display_name": "Python 3",
   "language": "python",
   "name": "python3"
  },
  "language_info": {
   "codemirror_mode": {
    "name": "ipython",
    "version": 3
   },
   "file_extension": ".py",
   "mimetype": "text/x-python",
   "name": "python",
   "nbconvert_exporter": "python",
   "pygments_lexer": "ipython3",
   "version": "3.7.2"
  }
 },
 "nbformat": 4,
 "nbformat_minor": 1
}
