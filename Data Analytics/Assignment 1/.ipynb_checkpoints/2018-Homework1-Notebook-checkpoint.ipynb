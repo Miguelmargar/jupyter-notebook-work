{
 "cells": [
  {
   "cell_type": "markdown",
   "metadata": {},
   "source": [
    "# Homework1\n",
    "\n",
    "Please upload to Moodle a .zip archive containing your Jupyter Notebook with solutions and all data required to reproduce your solutions. \n",
    "\n",
    "Please also prepare a requirements.txt file which lists all the packages that you have used for your homework, one package per line. This will allow us to install all required packages in one go, by using \"pip install -r requirements.txt\".\n",
    "\n",
    "Please name your .zip archive using your full name and student id as follows - *Firstname_Lastname_12345678_COMP47350_Homework1.zip*. \n",
    "\n",
    "For your Notebook, please split the code and explanations into many little cells so it is easy to see and read the results of each step of your solution. Please remember to name your variables and methods with self-explanatory names. Please remember to write comments and where needed, justifications, for the decisions you make and code you write. Feel free to revisit *tips_to_keep_your_ipython_notebook_readable_and_easy_to_debug.html* provided on Moodle.\n",
    "\n",
    "Your code and analysis is like a story that awaits to be read, make it a nice story please.\n",
    "\n",
    "The accepted file formats for the homework are:\n",
    "    - .ipynb\n",
    "    - .zip\n",
    "    - .pdf\n",
    "    - .csv\n",
    "    \n",
    "Please keep the whole code in a single notebook. Usage of external tools/files is discouraged for portability reasons. Files in any other format but mentioned above can be used but will be ignored and not considered for the submission (including .doc, .rar, .7z, .pages, .xlsx, .tex etc.). \n",
    "Any image format is allowed to be used as far as the images appear embedded in your report (.ipynb or .pdf or .html).\n",
    "\n",
    "**Deadline: Friday, 8 March, 2019, midnight.** "
   ]
  },
  {
   "cell_type": "markdown",
   "metadata": {},
   "source": [
    "## Exercises\n",
    "\n",
    "This homework focuses on data understanding and preparation for a particular problem and dataset.\n",
    "The problem and data come from a credit scoring company concerned with reducing credit repayment risk. The company wants to use the data collected about their customers to build a data analytics solution for credit risk prediction.\n",
    "The fundamental task is to use the information about the applicant in their credit report to predict whether they will repay their credit within 2 years. The target variable to predict is a binary variable called RiskPerformance. The value “Bad” indicates that a consumer was 90 days past due or worse at least once over a period of 24 months from when the credit account was opened. The value “Good” indicates that they have made their payments without ever being more than 90 days overdue. The dataset we work with is a sample of the data used in this data challenge: https://community.fico.com/s/explainable-machine-learning-challenge?tabset-3158a=2\n",
    "\n",
    "Each student will work with a different subset of the data. The CSV file is named using the format: **CreditRisk-[your-student-number].csv**, e.g., **CreditRisk-12345678.csv** is the data file for a student with number 12345678. You need to work with the CSV file corresponding to your student number. There are 4 parts for this homework. Each part has an indicative maximum percentage given in brackets, e.g., part (1) has a maximum of 40% shown as [40].\n",
    "\n",
    "\n",
    "\n",
    "(1). [40] Prepare a data quality report for your CSV file. Below you have a set of guideline steps to help you in this process.\n",
    "    - Check how many rows and columns your CSV has.\n",
    "    - Print the first and the last 5 rows.\n",
    "    - Convert the features to their appropriate data types (e.g., decide which features are more appropriate as \n",
    "    continuos and which ones as categorical types). \n",
    "    - Drop duplicate rows and columns, if any.\n",
    "    - Drop constant columns, if any.\n",
    "    - Save your updated/cleaned data frame to a new csv file.\n",
    "  \n",
    "    For the updated CSV and data frame (after column/row removal):\n",
    "    - Prepare a table with descriptive statistics for all the continuous features.\n",
    "    - Prepare a table with descriptive statistics for all the categorical features.\n",
    "    - Plot histograms for all the continuous features.\n",
    "    - Plot box plots for all the continuous features.\n",
    "    - Plot bar plots for all the categorical features.\n",
    "    - Discuss your initial findings.\n",
    "    - Save the initial discussion of your findings into a single data quality report PDF file.                    The PDF report should focus on the key issues identified in the data and discuss potential strategies              to handle them. Simple listing of tables and plots without discussion and justification will not receive full marks. \n",
    "\n",
    "(2). [30] Prepare a data quality plan for the cleaned CSV file. \n",
    "    - Mark down all the features where there are potential problems or data quality issues.\n",
    "    - Propose solutions to deal with the problems identified. Explain why did you choose one solution over \n",
    "    potentially many other.\n",
    "    - Apply your solutions to obtain a new CSV file where the identified data quality issues were addressed. \n",
    "    - Save the new CSV file with a self explanatory name. \n",
    "    - Save the data quality plan to a single PDF file.\n",
    "        \n",
    "(3). [15] Exploring relationships between feature pairs:\n",
    "    - Choose a subset of features you find promising and plot pairwise feature interactions (e.g., \n",
    "    continuous-continuous feature plot or continuous-categorical plots or correlation plots). \n",
    "    Explain your choices.\n",
    "    - Discuss your findings from the plots above. Do you find any features or feature combinations that are \n",
    "    indicative of the target outcome? Explain in plain words (a short paragraph) the story of your\n",
    "    findings so far.\n",
    "    \n",
    "(4). [15] Transform, extend or combine the existing features to create a few new features (at least 3) with the aim to better capture the problem domain and the target outcome. Justify the steps and choices you are making. Add these features to your clean dataset and save it as a CSV file with a self explanatory name. "
   ]
  },
  {
   "cell_type": "code",
   "execution_count": null,
   "metadata": {
    "collapsed": true
   },
   "outputs": [],
   "source": []
  }
 ],
 "metadata": {
  "kernelspec": {
   "display_name": "Python 3",
   "language": "python",
   "name": "python3"
  },
  "language_info": {
   "codemirror_mode": {
    "name": "ipython",
    "version": 3
   },
   "file_extension": ".py",
   "mimetype": "text/x-python",
   "name": "python",
   "nbconvert_exporter": "python",
   "pygments_lexer": "ipython3",
   "version": "3.7.2"
  }
 },
 "nbformat": 4,
 "nbformat_minor": 1
}
